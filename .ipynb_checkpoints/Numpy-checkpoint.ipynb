{
 "cells": [
  {
   "cell_type": "markdown",
   "id": "6caa841a",
   "metadata": {},
   "source": [
    "# This notebook contains information with examples for the most commonly used (for beginners as well as advanced users) functions and techniques in Numpy.\n",
    "## The notebook was used by me (Niv Rave) to be shared and to assist student, beginners and those who just need the simple 'copy and paste' to improve their performance."
   ]
  },
  {
   "cell_type": "markdown",
   "id": "3a0e1494",
   "metadata": {},
   "source": [
    "## This notebook contains:\n",
    "1. Basic array creation\n",
    "2. Basic dimensions/shapes\n",
    "3. Broadcasting\n",
    "4. Array indexing / slicing / masking\n",
    "5. Searching and indices\n",
    "6. Array creation functions (Advanced)\n",
    "7. Random numbers and sampling\n",
    "8. Advanced array manipulation\n",
    "9. Statistics\n",
    "10. Linear algebra\n"
   ]
  },
  {
   "cell_type": "markdown",
   "id": "76fedc4e",
   "metadata": {},
   "source": [
    "## Each area contains examples, explanations and printing of the data and the output, and at the end of every area (well, almost all of them) there is a cell containing additional links and information."
   ]
  },
  {
   "cell_type": "code",
   "execution_count": 1,
   "id": "7623e7d8",
   "metadata": {},
   "outputs": [],
   "source": [
    "#import numpy -> use numpy. to use the library\n",
    "import numpy as np# use np. to use the library"
   ]
  },
  {
   "cell_type": "markdown",
   "id": "1b4c8b5b",
   "metadata": {},
   "source": [
    "# 1. Basic array creation"
   ]
  },
  {
   "cell_type": "code",
   "execution_count": 2,
   "id": "a8c739da",
   "metadata": {},
   "outputs": [],
   "source": [
    "a = np.array([1,2,3])\n",
    "b = np.array([1.,2.,3.])\n",
    "c = np.array([True, True, False])"
   ]
  },
  {
   "cell_type": "code",
   "execution_count": 3,
   "id": "da3cf719",
   "metadata": {},
   "outputs": [
    {
     "name": "stdout",
     "output_type": "stream",
     "text": [
      "a:\n",
      "[1 2 3]\n",
      "<class 'numpy.ndarray'>\n",
      "int32\n"
     ]
    }
   ],
   "source": [
    "print('a:')\n",
    "print(a)\n",
    "print(type(a))\n",
    "print(a.dtype)"
   ]
  },
  {
   "cell_type": "code",
   "execution_count": 4,
   "id": "08aa1b3e",
   "metadata": {},
   "outputs": [
    {
     "name": "stdout",
     "output_type": "stream",
     "text": [
      "b:\n",
      "[1. 2. 3.]\n",
      "<class 'numpy.ndarray'>\n",
      "float64\n"
     ]
    }
   ],
   "source": [
    "print('b:')\n",
    "print(b)\n",
    "print(type(b))\n",
    "print(b.dtype)"
   ]
  },
  {
   "cell_type": "code",
   "execution_count": 5,
   "id": "e600eb1e",
   "metadata": {},
   "outputs": [
    {
     "name": "stdout",
     "output_type": "stream",
     "text": [
      "c:\n",
      "[ True  True False]\n",
      "<class 'numpy.ndarray'>\n",
      "bool\n"
     ]
    }
   ],
   "source": [
    "print('c:')\n",
    "print(c)\n",
    "print(type(c))\n",
    "print(c.dtype)"
   ]
  },
  {
   "cell_type": "code",
   "execution_count": 6,
   "id": "9c4f1e6b",
   "metadata": {},
   "outputs": [
    {
     "name": "stdout",
     "output_type": "stream",
     "text": [
      "d:\n",
      "[[1 2 3]\n",
      " [1 2 3]\n",
      " [1 2 3]]\n",
      "<class 'numpy.ndarray'>\n",
      "int32\n"
     ]
    }
   ],
   "source": [
    "# Create array using existing arrays\n",
    "d = np.array([a, a, a])\n",
    "print('d:')\n",
    "print(d)\n",
    "print(type(d))\n",
    "print(d.dtype)"
   ]
  },
  {
   "cell_type": "markdown",
   "id": "67edfd8f",
   "metadata": {},
   "source": [
    "# 2. Basic dimensions/shapes"
   ]
  },
  {
   "cell_type": "code",
   "execution_count": 7,
   "id": "38fd9385",
   "metadata": {},
   "outputs": [],
   "source": [
    "a = np.array([1,2,3])\n",
    "b = np.array([[1,2,3],[1,2,3]])\n",
    "c = np.array([[[1,2,3],[1,2,3]],[[1,2,3],[1,2,3]]])"
   ]
  },
  {
   "cell_type": "code",
   "execution_count": 8,
   "id": "c9909fe9",
   "metadata": {},
   "outputs": [
    {
     "name": "stdout",
     "output_type": "stream",
     "text": [
      "a:\n",
      "[1 2 3]\n",
      "ndim - number of dimensions:\n",
      "1\n",
      "shape:\n",
      "(3,)\n",
      "Number of elements = 3\n"
     ]
    }
   ],
   "source": [
    "# 1D array\n",
    "print('a:')\n",
    "print(a)\n",
    "print('ndim - number of dimensions:')\n",
    "print(a.ndim)\n",
    "print('shape:')\n",
    "print(a.shape)\n",
    "print('Number of elements = ' + str(a.shape[0]))"
   ]
  },
  {
   "cell_type": "code",
   "execution_count": 9,
   "id": "5b54b0ec",
   "metadata": {},
   "outputs": [
    {
     "name": "stdout",
     "output_type": "stream",
     "text": [
      "b:\n",
      "[[1 2 3]\n",
      " [1 2 3]]\n",
      "ndim - number of dimensions:\n",
      "2\n",
      "shape:\n",
      "(2, 3)\n",
      "Number of 1D arrays = 2, Number of elements in each 1D array = 3\n"
     ]
    }
   ],
   "source": [
    "# 2D array\n",
    "print('b:')\n",
    "print(b)\n",
    "print('ndim - number of dimensions:')\n",
    "print(b.ndim)\n",
    "print('shape:')\n",
    "print(b.shape)\n",
    "print('Number of 1D arrays = '+str(b.shape[0])+', Number of elements in each 1D array = '+str(b.shape[1]))"
   ]
  },
  {
   "cell_type": "code",
   "execution_count": 10,
   "id": "2192b2db",
   "metadata": {},
   "outputs": [
    {
     "name": "stdout",
     "output_type": "stream",
     "text": [
      "c:\n",
      "[[[1 2 3]\n",
      "  [1 2 3]]\n",
      "\n",
      " [[1 2 3]\n",
      "  [1 2 3]]]\n",
      "ndim - number of dimensions:\n",
      "3\n",
      "shape:\n",
      "(2, 2, 3)\n",
      "Number of 2D arrays = 2, Number of 1D arrays = 2, Number of elements in each 1D array = 3\n",
      "2 2 3\n"
     ]
    }
   ],
   "source": [
    "# 3D array\n",
    "print('c:')\n",
    "print(c)\n",
    "print('ndim - number of dimensions:')\n",
    "print(c.ndim)\n",
    "print('shape:')\n",
    "print(c.shape)\n",
    "print('Number of 2D arrays = '+str(c.shape[0])+', Number of 1D arrays = '+str(c.shape[1])+', Number of elements in each 1D array = '+str(c.shape[2]))\n",
    "print(c.shape[0],c.shape[1],c.shape[2])"
   ]
  },
  {
   "cell_type": "code",
   "execution_count": 11,
   "id": "a0237f28",
   "metadata": {},
   "outputs": [
    {
     "name": "stdout",
     "output_type": "stream",
     "text": [
      "Access 1st element in each array:\n",
      "a:\n",
      "1\n",
      "b:\n",
      "1\n",
      "c:\n",
      "1\n"
     ]
    }
   ],
   "source": [
    "print('Access 1st element in each array:')\n",
    "print('a:')\n",
    "print(a[0])\n",
    "print('b:')\n",
    "print(b[0,0])\n",
    "print('c:')\n",
    "print(c[0,0,0])"
   ]
  },
  {
   "cell_type": "code",
   "execution_count": 12,
   "id": "ec232b76",
   "metadata": {},
   "outputs": [
    {
     "name": "stdout",
     "output_type": "stream",
     "text": [
      "Access i'th element in each array:\n",
      "a:\n",
      "3\n",
      "b:\n",
      "3\n",
      "c:\n",
      "3\n"
     ]
    }
   ],
   "source": [
    "i = 2\n",
    "print('Access i\\'th element in each array:')\n",
    "print('a:')\n",
    "print(a[i])\n",
    "print('b:')\n",
    "print(b[0,2])\n",
    "print('c:')\n",
    "print(c[0,0,i])"
   ]
  },
  {
   "cell_type": "markdown",
   "id": "1da7d7b2",
   "metadata": {},
   "source": [
    "### numpy.reshape()\n",
    "#### Reshape a numpy array without changing the data.\n",
    "numpy.reshape(a, newshape, order='C')"
   ]
  },
  {
   "cell_type": "code",
   "execution_count": 13,
   "id": "e6ec74d9",
   "metadata": {},
   "outputs": [
    {
     "name": "stdout",
     "output_type": "stream",
     "text": [
      "a:\n",
      "[1 2 3 4 5 6]\n",
      "reshaped 2x3:\n",
      "[[1 2 3]\n",
      " [4 5 6]]\n",
      "reshaped 3x2:\n",
      "[[1 2]\n",
      " [3 4]\n",
      " [5 6]]\n",
      "a:\n",
      "[1 2 3 4 5 6]\n"
     ]
    }
   ],
   "source": [
    "a = np.array([1,2,3,4,5,6])\n",
    "print('a:')\n",
    "print(a)\n",
    "reshaped = a.reshape((2, 3))\n",
    "print('reshaped 2x3:')\n",
    "print(reshaped)\n",
    "reshaped = a.reshape((3, 2))\n",
    "print('reshaped 3x2:')\n",
    "print(reshaped)\n",
    "print('a:')\n",
    "print(a)"
   ]
  },
  {
   "cell_type": "markdown",
   "id": "4f3646e5",
   "metadata": {},
   "source": [
    "### numpy.transpose(), .T\n",
    "#### Returns the array transpose (reverse axes)\n",
    "numpy.transpose(a, axes=None)"
   ]
  },
  {
   "cell_type": "code",
   "execution_count": 14,
   "id": "a453c38d",
   "metadata": {},
   "outputs": [
    {
     "name": "stdout",
     "output_type": "stream",
     "text": [
      "a:\n",
      "[[1 2 3]\n",
      " [4 5 6]]\n",
      "a transpose using np.transpose():\n",
      "[[1 4]\n",
      " [2 5]\n",
      " [3 6]]\n",
      "a transpose using a.T:\n",
      "[[1 4]\n",
      " [2 5]\n",
      " [3 6]]\n"
     ]
    }
   ],
   "source": [
    "a = np.array([1,2,3,4,5,6]).reshape((2,3))\n",
    "a_transpose = np.transpose(a)\n",
    "a_T = a.T\n",
    "print('a:')\n",
    "print(a)\n",
    "print('a transpose using np.transpose():')\n",
    "print(a_transpose)\n",
    "print('a transpose using a.T:')\n",
    "print(a_T)"
   ]
  },
  {
   "cell_type": "code",
   "execution_count": 15,
   "id": "6bb4dc1e",
   "metadata": {},
   "outputs": [
    {
     "name": "stdout",
     "output_type": "stream",
     "text": [
      "a:\n",
      "[[1 2 3]\n",
      " [4 5 6]]\n",
      "a transpose using np.transpose():\n",
      "[[1 4]\n",
      " [2 5]\n",
      " [3 6]]\n",
      "a transpose using np.transpose() axis = (0,1):\n",
      "[[1 2 3]\n",
      " [4 5 6]]\n",
      "a transpose using np.transpose() axis = (1,0):\n",
      "[[1 4]\n",
      " [2 5]\n",
      " [3 6]]\n"
     ]
    }
   ],
   "source": [
    "#a = np.array([[1,2],[3,4]])\n",
    "a = np.array([[1,2,3],[4,5,6]])\n",
    "print('a:')\n",
    "print(a)\n",
    "a_transpose = np.transpose(a)\n",
    "a_transpose_1 = np.transpose(a,(0,1))\n",
    "a_transpose_2 = np.transpose(a,(1,0))\n",
    "print('a transpose using np.transpose():')\n",
    "print(a_transpose)\n",
    "print('a transpose using np.transpose() axis = (0,1):') # keep the same axis\n",
    "print(a_transpose_1)\n",
    "print('a transpose using np.transpose() axis = (1,0):') # change axis order - like a 2d matrix transpose\n",
    "print(a_transpose_2)"
   ]
  },
  {
   "cell_type": "code",
   "execution_count": 16,
   "id": "e3213428",
   "metadata": {},
   "outputs": [
    {
     "name": "stdout",
     "output_type": "stream",
     "text": [
      "a:\n",
      "[[[ 1  2  3]\n",
      "  [ 4  5  6]]\n",
      "\n",
      " [[ 7  8  9]\n",
      "  [10 11 12]]]\n",
      "a transpose using np.transpose() axis = (0,2,1):\n",
      "[[[ 1  4]\n",
      "  [ 2  5]\n",
      "  [ 3  6]]\n",
      "\n",
      " [[ 7 10]\n",
      "  [ 8 11]\n",
      "  [ 9 12]]]\n",
      "a transpose using np.transpose() axis = (0,1,2):\n",
      "[[[ 1  2  3]\n",
      "  [ 4  5  6]]\n",
      "\n",
      " [[ 7  8  9]\n",
      "  [10 11 12]]]\n",
      "a transpose using np.transpose() axis = (2,1,0):\n",
      "[[[ 1  2  3]\n",
      "  [ 7  8  9]]\n",
      "\n",
      " [[ 4  5  6]\n",
      "  [10 11 12]]]\n",
      "a transpose using np.transpose() axis = (2,0,1):\n",
      "[[[ 1  7]\n",
      "  [ 4 10]]\n",
      "\n",
      " [[ 2  8]\n",
      "  [ 5 11]]\n",
      "\n",
      " [[ 3  9]\n",
      "  [ 6 12]]]\n"
     ]
    }
   ],
   "source": [
    "a = np.array([[[1,2,3],[4,5,6]],[[7,8,9],[10,11,12]]])\n",
    "print('a:')\n",
    "print(a)\n",
    "# transpose in row/col axes (the 'inside' matrix)\n",
    "a_transpose = np.transpose(a,(0,2,1))\n",
    "print('a transpose using np.transpose() axis = (0,2,1):')\n",
    "print(a_transpose)\n",
    "a_transpose = np.transpose(a,(0,1,2))\n",
    "print('a transpose using np.transpose() axis = (0,1,2):')\n",
    "# transpose in other axes combinations\n",
    "print(a_transpose)\n",
    "a_transpose = np.transpose(a,(1,0,2))\n",
    "print('a transpose using np.transpose() axis = (2,1,0):')\n",
    "print(a_transpose)\n",
    "a_transpose = np.transpose(a,(2,1,0))\n",
    "print('a transpose using np.transpose() axis = (2,0,1):')\n",
    "print(a_transpose)"
   ]
  },
  {
   "cell_type": "markdown",
   "id": "eb983d52",
   "metadata": {},
   "source": [
    "# 3. Broadcasting\n",
    "### Numpy enables different explicit and un explicit methods to broadcast arrays of different shapes and dimensions\n",
    "### Find more at: https://numpy.org/doc/stable/reference/generated/numpy.broadcast.html"
   ]
  },
  {
   "cell_type": "code",
   "execution_count": 17,
   "id": "f35a3f54",
   "metadata": {},
   "outputs": [
    {
     "name": "stdout",
     "output_type": "stream",
     "text": [
      "a:\n",
      "[[1]\n",
      " [2]\n",
      " [3]]\n",
      "b:\n",
      "[1 2 3]\n",
      "broadcasted object:\n",
      "<numpy.broadcast object at 0x0000029E2C058CE0>\n",
      "broadcasted result after extracting:\n",
      "[[2. 3. 4.]\n",
      " [3. 4. 5.]\n",
      " [4. 5. 6.]]\n"
     ]
    }
   ],
   "source": [
    "a = np.array([[1], [2], [3]])\n",
    "b = np.array([1, 2, 3])\n",
    "broadcasted = np.broadcast(a, b) # Returns a broadcast object\n",
    "broadcasted_extracted = np.zeros(broadcasted.shape)\n",
    "broadcasted_extracted.flat = [u+v for (u,v) in broadcasted] # using '+' for sum, change to get other results\n",
    "print('a:')\n",
    "print(a)\n",
    "print('b:')\n",
    "print(b)\n",
    "print('broadcasted object:')\n",
    "print(broadcasted)\n",
    "print('broadcasted result after extracting:')\n",
    "print(broadcasted_extracted)\n",
    "# Output will be:\n",
    "# 1+1 1+2 1+3\n",
    "# 2+1 2+2 2+3\n",
    "# 3+1 3+2 3+3\n",
    "# Each 1x1 array in 'a' will turn into a 1x3 (turning 'a' from a 3x1 to a 3x3 array)\n",
    "# and will be added to the 1x3 array 'b', resulting in the given 3x3 array above"
   ]
  },
  {
   "cell_type": "code",
   "execution_count": 18,
   "id": "2616a433",
   "metadata": {},
   "outputs": [
    {
     "name": "stdout",
     "output_type": "stream",
     "text": [
      "a:\n",
      "[[1]\n",
      " [2]\n",
      " [3]]\n",
      "b:\n",
      "[1 2 3]\n",
      "broadcasted result:\n",
      "[[2 3 4]\n",
      " [3 4 5]\n",
      " [4 5 6]]\n"
     ]
    }
   ],
   "source": [
    "a = np.array([[1], [2], [3]])\n",
    "b = np.array([1, 2, 3])\n",
    "broadcasted = a+b\n",
    "print('a:')\n",
    "print(a)\n",
    "print('b:')\n",
    "print(b)\n",
    "print('broadcasted result:')\n",
    "print(broadcasted)"
   ]
  },
  {
   "cell_type": "code",
   "execution_count": 19,
   "id": "ea8ae6de",
   "metadata": {},
   "outputs": [
    {
     "name": "stdout",
     "output_type": "stream",
     "text": [
      "a:\n",
      "[1 2 3]\n",
      "a + 5:\n",
      "[6 7 8]\n"
     ]
    }
   ],
   "source": [
    "a = np.array([1, 2, 3])\n",
    "print('a:')\n",
    "print(a)\n",
    "print('a + 5:') # will broadcast 5 to [5, 5, 5]\n",
    "print(a+5)"
   ]
  },
  {
   "cell_type": "markdown",
   "id": "63c9968e",
   "metadata": {},
   "source": [
    "# 4. Array indexing / slicing / masking"
   ]
  },
  {
   "cell_type": "code",
   "execution_count": 20,
   "id": "ec767ede",
   "metadata": {},
   "outputs": [
    {
     "name": "stdout",
     "output_type": "stream",
     "text": [
      "a:\n",
      "[ 1  2  3  4  5  6  7  8  9 10]\n",
      "First 3 elements:\n",
      "[1 2 3]\n",
      "Elements 2-6:\n",
      "[3 4 5 6 7]\n",
      "Elements 7-8:\n",
      "[8 9]\n",
      "Last 3 elements:\n",
      "[ 8  9 10]\n"
     ]
    }
   ],
   "source": [
    "# Notice that index counting starts at '0' and elemnts start at '1' (zeroth index = first element)\n",
    "a = np.array([1,2,3,4,5,6,7,8,9,10])\n",
    "print('a:')\n",
    "print(a)\n",
    "print('First 3 elements:')\n",
    "print(a[:3])\n",
    "print('Elements 2-6:')\n",
    "print(a[2:7])\n",
    "print('Elements 7-8:')\n",
    "print(a[7:9])\n",
    "print('Last 3 elements:')\n",
    "print(a[7:])"
   ]
  },
  {
   "cell_type": "code",
   "execution_count": 21,
   "id": "cfb3b300",
   "metadata": {},
   "outputs": [
    {
     "name": "stdout",
     "output_type": "stream",
     "text": [
      "a:\n",
      "[ 1  2  3  4  5  6  7  8  9 10]\n",
      "Every other element:\n",
      "[1 3 5 7 9]\n",
      "Every third element:\n",
      "[ 1  4  7 10]\n",
      "Reverse array:\n",
      "[10  9  8  7  6  5  4  3  2  1]\n",
      "Reverse array every second element:\n",
      "[10  8  6  4  2]\n"
     ]
    }
   ],
   "source": [
    "# Notice that index counting starts at '0' and elemnts start at '1' (zeroth index = first element)\n",
    "a = np.array([1,2,3,4,5,6,7,8,9,10])\n",
    "print('a:')\n",
    "print(a)\n",
    "print('Every other element:')\n",
    "print(a[::2])\n",
    "print('Every third element:')\n",
    "print(a[::3])\n",
    "print('Reverse array:')\n",
    "print(a[::-1])\n",
    "print('Reverse array every second element:')\n",
    "print(a[::-2])"
   ]
  },
  {
   "cell_type": "code",
   "execution_count": 22,
   "id": "63731232",
   "metadata": {},
   "outputs": [
    {
     "name": "stdout",
     "output_type": "stream",
     "text": [
      "a:\n",
      "[ 1  2  3  4  5  6  7  8  9 10]\n",
      "1st, 2nd and 5th elements:\n",
      "[1 2 5]\n",
      "1st and last elements:\n",
      "[ 1 10]\n",
      "1st , middle and last elements:\n",
      "[ 1  6 10]\n"
     ]
    }
   ],
   "source": [
    "# Notice that index counting starts at '0' and elemnts start at '1' (zeroth index = first element)\n",
    "a = np.array([1,2,3,4,5,6,7,8,9,10])\n",
    "print('a:')\n",
    "print(a)\n",
    "print('1st, 2nd and 5th elements:')\n",
    "print(a[[0,1,4]])\n",
    "print('1st and last elements:')\n",
    "print(a[[0,-1]])\n",
    "print('1st , middle and last elements:')\n",
    "print(a[[0,int(len(a)/2),-1]])"
   ]
  },
  {
   "cell_type": "code",
   "execution_count": 23,
   "id": "930bf22e",
   "metadata": {},
   "outputs": [
    {
     "name": "stdout",
     "output_type": "stream",
     "text": [
      "a:\n",
      "[[[ 1  2  3]\n",
      "  [ 4  5  6]]\n",
      "\n",
      " [[ 7  8  9]\n",
      "  [10 11 12]]]\n",
      "a reversed on 3rd dimension:\n",
      "[[[ 7  8  9]\n",
      "  [10 11 12]]\n",
      "\n",
      " [[ 1  2  3]\n",
      "  [ 4  5  6]]]\n"
     ]
    }
   ],
   "source": [
    "# Reversing a single dimension can be very helpful (used in computer vision applications when integrating open-cv and matplotlib)\n",
    "a = np.array([[[1,2,3],[4,5,6]],[[7,8,9],[10,11,12]]])\n",
    "print('a:')\n",
    "print(a)\n",
    "print('a reversed on 3rd dimension:')\n",
    "print(a[::-1])"
   ]
  },
  {
   "cell_type": "markdown",
   "id": "cae4e026",
   "metadata": {},
   "source": [
    "Boolean masking (will create a new array - similar to copy - read in the following sections)"
   ]
  },
  {
   "cell_type": "code",
   "execution_count": 24,
   "id": "512b27e2",
   "metadata": {},
   "outputs": [
    {
     "name": "stdout",
     "output_type": "stream",
     "text": [
      "a:\n",
      "[1 2 3 4 5 6 7 8]\n",
      "masked, first 2 elements only:\n",
      "[1 2]\n",
      "masked, only a>3:\n",
      "[4 5 6 7 8]\n",
      "masked, only 2<a<5:\n",
      "[3 4]\n",
      "masked, only 3>a or a>6:\n",
      "[1 2 7 8]\n",
      "masked, only even values:\n",
      "[2 4 6 8]\n",
      "masked, only odd values:\n",
      "[1 3 5 7]\n"
     ]
    }
   ],
   "source": [
    "# Notice that index counting starts at '0' and elemnts start at '1' (zeroth index = first element)\n",
    "a = np.array([1,2,3,4,5,6,7,8])\n",
    "masked_direct = a[[True, True, False, False, False, False, False, False]]\n",
    "masked_greater3 = a[a>3]\n",
    "masked_between25 = a[(a>2) & (a<5)] # & = and\n",
    "masked_under3_over6 = a[(a<3) | (a>6)] # | = or\n",
    "masked_even = a[a%2==0]\n",
    "masked_odd = a[~(a%2==0)]\n",
    "print('a:')\n",
    "print(a)\n",
    "print('masked, first 2 elements only:')\n",
    "print(masked_direct)\n",
    "print('masked, only a>3:')\n",
    "print(masked_greater3)\n",
    "print('masked, only 2<a<5:')\n",
    "print(masked_between25)\n",
    "print('masked, only 3>a or a>6:')\n",
    "print(masked_under3_over6)\n",
    "print('masked, only even values:')\n",
    "print(masked_even)\n",
    "print('masked, only odd values:')\n",
    "print(masked_odd)"
   ]
  },
  {
   "cell_type": "markdown",
   "id": "87a18671",
   "metadata": {},
   "source": [
    "#### Creating a new array using the elements of an existing one will not copy those elements and any manipulation on the original array will also affect the values in the \"copied\" one.\n",
    "#### To get over that (if we want to) we will create a copy of the original array using the '.copy()' function"
   ]
  },
  {
   "cell_type": "code",
   "execution_count": 25,
   "id": "ab4103f2",
   "metadata": {},
   "outputs": [
    {
     "name": "stdout",
     "output_type": "stream",
     "text": [
      "After creating a:\n",
      "a:\n",
      "[ 1  2  3  4  5  6  7  8  9 10]\n",
      "After creating b, c:\n",
      "a:\n",
      "[ 1  2  3  4  5  6  7  8  9 10]\n",
      "b:\n",
      "[1 3 5 7 9]\n",
      "c:\n",
      "[1 3 5 7 9]\n",
      "After changing a[0] value to '100':\n",
      "a:\n",
      "[100   2   3   4   5   6   7   8   9  10]\n",
      "b:\n",
      "[100   3   5   7   9]\n",
      "c:\n",
      "[1 3 5 7 9]\n"
     ]
    }
   ],
   "source": [
    "a = np.array([1,2,3,4,5,6,7,8,9,10])\n",
    "print('After creating a:')\n",
    "print('a:')\n",
    "print(a)\n",
    "b = a[::2]\n",
    "c = a[::2].copy()\n",
    "print('After creating b, c:')\n",
    "print('a:')\n",
    "print(a)\n",
    "print('b:')\n",
    "print(b)\n",
    "print('c:')\n",
    "print(c)\n",
    "a[0] = 100\n",
    "print('After changing a[0] value to '\"'100'\"':')\n",
    "print('a:')\n",
    "print(a)\n",
    "print('b:')\n",
    "print(b)\n",
    "print('c:')\n",
    "print(c)"
   ]
  },
  {
   "cell_type": "markdown",
   "id": "6e041e6d",
   "metadata": {},
   "source": [
    "# 5. Searching and indices"
   ]
  },
  {
   "cell_type": "markdown",
   "id": "b3dd1d68",
   "metadata": {},
   "source": [
    "### Some of the commonly used array searching and filtering methods.\n",
    "### Find more at: https://numpy.org/doc/stable/reference/routines.sort.html\n",
    "Numpy provides methods that help analyzing the arrays in terms of 'filtering', getting indices and values that match a desired condition and more."
   ]
  },
  {
   "cell_type": "markdown",
   "id": "f5658f35",
   "metadata": {},
   "source": [
    "### numpy.argmin()\n",
    "#### Returns an array containing the indices of the minimum values along an axis\n",
    "numpy.argmin(a, axis=None, out=None, *, keepdims=False)"
   ]
  },
  {
   "cell_type": "code",
   "execution_count": 26,
   "id": "b28bf494",
   "metadata": {},
   "outputs": [
    {
     "name": "stdout",
     "output_type": "stream",
     "text": [
      "argmin in array a is at index 0\n",
      "argmin in array b is at index [0 0]\n"
     ]
    }
   ],
   "source": [
    "a = np.array([1,2,3,4,5,6,7,8,9,10])\n",
    "b = a.reshape((2, 5))\n",
    "argmin_a = np.argmin(a)\n",
    "argmin_b = np.argmin(b, axis=1)\n",
    "print(f'argmin in array a is at index {argmin_a}')\n",
    "print(f'argmin in array b is at index {argmin_b}')"
   ]
  },
  {
   "cell_type": "code",
   "execution_count": 27,
   "id": "e65e4f5f",
   "metadata": {},
   "outputs": [
    {
     "name": "stdout",
     "output_type": "stream",
     "text": [
      "argmin in array b is at index 1\n",
      "argmin in array b is at index [1 3]\n"
     ]
    }
   ],
   "source": [
    "a = np.array([1,0,3,4,5,6,7,8,0,10])\n",
    "b = a.reshape((2, 5))\n",
    "argmin_b_axis0 = np.argmin(b)\n",
    "argmin_b_axis1 = np.argmin(b, axis=1)\n",
    "print(f'argmin in array b is at index {argmin_b_axis0}')# Treats b as a flattened array (1D)\n",
    "print(f'argmin in array b is at index {argmin_b_axis1}')# Returns the argmin index in each array in axis 1"
   ]
  },
  {
   "cell_type": "markdown",
   "id": "68b614f4",
   "metadata": {},
   "source": [
    "### numpy.argmax()\n",
    "#### Returns an array containing the indices of the maximum values along an axis\n",
    "numpy.argmax(a, axis=None, out=None, *, keepdims=False)"
   ]
  },
  {
   "cell_type": "code",
   "execution_count": 28,
   "id": "f3ca1ada",
   "metadata": {},
   "outputs": [
    {
     "name": "stdout",
     "output_type": "stream",
     "text": [
      "argmax in array a is at index 9\n",
      "argmax in array b is at index [4 4]\n"
     ]
    }
   ],
   "source": [
    "a = np.array([1,2,3,4,5,6,7,8,9,10])\n",
    "b = a.reshape((2, 5))\n",
    "argmax_a = np.argmax(a)\n",
    "argmax_b = np.argmax(b, axis=1)\n",
    "print(f'argmax in array a is at index {argmax_a}')\n",
    "print(f'argmax in array b is at index {argmax_b}')"
   ]
  },
  {
   "cell_type": "code",
   "execution_count": 29,
   "id": "07746a1c",
   "metadata": {},
   "outputs": [
    {
     "name": "stdout",
     "output_type": "stream",
     "text": [
      "argmax in array b is at index 2\n",
      "argmax in array b is at index [2 0]\n"
     ]
    }
   ],
   "source": [
    "a = np.array([1,0,35,4,5,12,7,8,0,4])\n",
    "b = a.reshape((2, 5))\n",
    "argmax_b_axis0 = np.argmax(b)\n",
    "argmax_b_axis1 = np.argmax(b, axis=1)\n",
    "print(f'argmax in array b is at index {argmax_b_axis0}')# Treats b as a flattened array (1D)\n",
    "print(f'argmax in array b is at index {argmax_b_axis1}')# Returns the argmax index in each array in axis 1"
   ]
  },
  {
   "cell_type": "markdown",
   "id": "f5251251",
   "metadata": {},
   "source": [
    "### numpy.nonzero()\n",
    "#### Returns an array containing the indices of the elements that are non zero\n",
    "numpy.nonzero(a)"
   ]
  },
  {
   "cell_type": "code",
   "execution_count": 30,
   "id": "9b1c2654",
   "metadata": {},
   "outputs": [
    {
     "name": "stdout",
     "output_type": "stream",
     "text": [
      "a:\n",
      "[ 1  0 35  0  5 12  7  8  0  4]\n",
      "non zeros:\n",
      "(array([0, 2, 4, 5, 6, 7, 9], dtype=int64),)\n"
     ]
    }
   ],
   "source": [
    "a = np.array([1,0,35,0,5,12,7,8,0,4])\n",
    "non_zeros = np.nonzero(a)\n",
    "print('a:')\n",
    "print(a)\n",
    "print('non zeros:')\n",
    "print(non_zeros)"
   ]
  },
  {
   "cell_type": "code",
   "execution_count": 31,
   "id": "af2fd200",
   "metadata": {},
   "outputs": [
    {
     "name": "stdout",
     "output_type": "stream",
     "text": [
      "a:\n",
      "[ 1  0 35  4  5 12  7  8  0  4]\n",
      "non zeros a:\n",
      "(array([0, 2, 3, 4, 5, 6, 7, 9], dtype=int64),)\n",
      "b:\n",
      "[[ 1  0 35  4  5]\n",
      " [12  7  8  0  4]]\n",
      "non zeros b:\n",
      "(array([0, 0, 0, 0, 1, 1, 1, 1], dtype=int64), array([0, 2, 3, 4, 0, 1, 2, 4], dtype=int64))\n"
     ]
    }
   ],
   "source": [
    "a = np.array([1,0,35,4,5,12,7,8,0,4])\n",
    "b = a.reshape((2, 5))\n",
    "non_zeros_a = np.nonzero(a)\n",
    "non_zeros_b = np.nonzero(b)\n",
    "print('a:')\n",
    "print(a)\n",
    "print('non zeros a:')\n",
    "print(non_zeros_a)\n",
    "print('b:')\n",
    "print(b)\n",
    "print('non zeros b:')\n",
    "print(non_zeros_b)"
   ]
  },
  {
   "cell_type": "code",
   "execution_count": 32,
   "id": "438522cd",
   "metadata": {},
   "outputs": [
    {
     "name": "stdout",
     "output_type": "stream",
     "text": [
      "a:\n",
      "[ 1  0 35  0  5 12  7  8  0  4]\n",
      "non zeros:\n",
      "(array([2, 5, 6, 7], dtype=int64),)\n"
     ]
    }
   ],
   "source": [
    "# Find the indices where the value is greater than 6 - where the condition is met\n",
    "a = np.array([1,0,35,0,5,12,7,8,0,4])\n",
    "non_zeros = np.nonzero(a>6)\n",
    "print('a:')\n",
    "print(a)\n",
    "print('non zeros:')\n",
    "print(non_zeros)"
   ]
  },
  {
   "cell_type": "markdown",
   "id": "87b2e8fa",
   "metadata": {},
   "source": [
    "# 6. Array creation functions (Advanced)"
   ]
  },
  {
   "cell_type": "markdown",
   "id": "70f45ceb",
   "metadata": {},
   "source": [
    "### Some of the commonly used array creation methods.\n",
    "### Find more at: https://numpy.org/doc/stable/reference/routines.array-creation.html\n",
    "Numpy provides many array creation patterns that can assist, make the code more readable and demand less actions to create the desired type of array."
   ]
  },
  {
   "cell_type": "markdown",
   "id": "d958afa7",
   "metadata": {},
   "source": [
    "### numpy.zeros()\n",
    "#### Create a numpy array containing zeros. Default data type = float\n",
    "numpy.zeros(shape, dtype=float, order='C', *, like=None)"
   ]
  },
  {
   "cell_type": "code",
   "execution_count": 33,
   "id": "9068998b",
   "metadata": {},
   "outputs": [
    {
     "name": "stdout",
     "output_type": "stream",
     "text": [
      "[0. 0. 0. 0. 0.]\n",
      "float64\n"
     ]
    }
   ],
   "source": [
    "# Create a single size 5 array\n",
    "zeros = np.zeros(5)\n",
    "print(zeros)\n",
    "print(zeros.dtype)"
   ]
  },
  {
   "cell_type": "code",
   "execution_count": 34,
   "id": "0c5fd339",
   "metadata": {},
   "outputs": [
    {
     "name": "stdout",
     "output_type": "stream",
     "text": [
      "[[0. 0.]\n",
      " [0. 0.]]\n",
      "float64\n"
     ]
    }
   ],
   "source": [
    "# Create a 2x2 array\n",
    "zeros = np.zeros((2,2))\n",
    "print(zeros)\n",
    "print(zeros.dtype)"
   ]
  },
  {
   "cell_type": "code",
   "execution_count": 35,
   "id": "1601ed83",
   "metadata": {},
   "outputs": [
    {
     "name": "stdout",
     "output_type": "stream",
     "text": [
      "[[[0. 0.]\n",
      "  [0. 0.]]\n",
      "\n",
      " [[0. 0.]\n",
      "  [0. 0.]]]\n",
      "float32\n"
     ]
    }
   ],
   "source": [
    "# Create a 2x2x2 array\n",
    "zeros = np.zeros((2,2,2),dtype=np.float32)\n",
    "print(zeros)\n",
    "print(zeros.dtype)"
   ]
  },
  {
   "cell_type": "code",
   "execution_count": 36,
   "id": "c20a0106",
   "metadata": {},
   "outputs": [
    {
     "name": "stdout",
     "output_type": "stream",
     "text": [
      "[[0 0]\n",
      " [0 0]]\n",
      "int32\n"
     ]
    }
   ],
   "source": [
    "zeros = np.zeros((2,2),dtype=int)\n",
    "print(zeros)\n",
    "print(zeros.dtype)"
   ]
  },
  {
   "cell_type": "code",
   "execution_count": 37,
   "id": "29b0e3ed",
   "metadata": {},
   "outputs": [
    {
     "name": "stdout",
     "output_type": "stream",
     "text": [
      "[[0 0]\n",
      " [0 0]]\n",
      "uint8\n"
     ]
    }
   ],
   "source": [
    "zeros = np.zeros((2,2),dtype='uint8') # Unsigned int, useful in computer vision applications and more\n",
    "print(zeros)\n",
    "print(zeros.dtype)"
   ]
  },
  {
   "cell_type": "markdown",
   "id": "c2b83e22",
   "metadata": {},
   "source": [
    "### numpy.zeros_like()\n",
    "#### Create a numpy array based on an existing array's shape and data type initialized with all 'zeros'\n",
    "numpy.zeros_like(a, dtype=None, order='K', subok=True, shape=None)"
   ]
  },
  {
   "cell_type": "code",
   "execution_count": 38,
   "id": "c909504a",
   "metadata": {},
   "outputs": [
    {
     "name": "stdout",
     "output_type": "stream",
     "text": [
      "c:\n",
      "[[[1 2 3]\n",
      "  [1 2 3]]\n",
      "\n",
      " [[1 2 3]\n",
      "  [1 2 3]]]\n",
      "int32\n",
      "zeros like c:\n",
      "[[[0 0 0]\n",
      "  [0 0 0]]\n",
      "\n",
      " [[0 0 0]\n",
      "  [0 0 0]]]\n",
      "int32\n"
     ]
    }
   ],
   "source": [
    "c = np.array([[[1,2,3],[1,2,3]],[[1,2,3],[1,2,3]]])\n",
    "print('c:')\n",
    "print(c)\n",
    "print(c.dtype)\n",
    "print('zeros like c:')\n",
    "zeros = np.zeros_like(c)\n",
    "print(zeros)\n",
    "print(zeros.dtype)"
   ]
  },
  {
   "cell_type": "markdown",
   "id": "caa9e0c3",
   "metadata": {},
   "source": [
    "### numpy.ones()\n",
    "#### Create a numpy array containing ones. Default data type = float\n",
    "numpy.ones(shape, dtype=None, order='C', *, like=None)"
   ]
  },
  {
   "cell_type": "code",
   "execution_count": 39,
   "id": "16e8a156",
   "metadata": {},
   "outputs": [
    {
     "name": "stdout",
     "output_type": "stream",
     "text": [
      "[1. 1. 1. 1. 1.]\n",
      "float64\n"
     ]
    }
   ],
   "source": [
    "# Create a single size 5 array\n",
    "ones = np.ones(5)\n",
    "print(ones)\n",
    "print(ones.dtype)"
   ]
  },
  {
   "cell_type": "code",
   "execution_count": 40,
   "id": "65af5884",
   "metadata": {},
   "outputs": [
    {
     "name": "stdout",
     "output_type": "stream",
     "text": [
      "[[1. 1.]\n",
      " [1. 1.]]\n",
      "float64\n"
     ]
    }
   ],
   "source": [
    "# Create a 2x2 array\n",
    "ones = np.ones((2,2))\n",
    "print(ones)\n",
    "print(ones.dtype)"
   ]
  },
  {
   "cell_type": "code",
   "execution_count": 41,
   "id": "63d34c6f",
   "metadata": {},
   "outputs": [
    {
     "name": "stdout",
     "output_type": "stream",
     "text": [
      "[[[1. 1.]\n",
      "  [1. 1.]]\n",
      "\n",
      " [[1. 1.]\n",
      "  [1. 1.]]]\n",
      "float32\n"
     ]
    }
   ],
   "source": [
    "# Create a 2x2x2 array\n",
    "ones = np.ones((2,2,2),dtype=np.float32)\n",
    "print(ones)\n",
    "print(ones.dtype)"
   ]
  },
  {
   "cell_type": "code",
   "execution_count": 42,
   "id": "c1108cce",
   "metadata": {},
   "outputs": [
    {
     "name": "stdout",
     "output_type": "stream",
     "text": [
      "[[1 1]\n",
      " [1 1]]\n",
      "int32\n"
     ]
    }
   ],
   "source": [
    "ones = np.ones((2,2),dtype=int)\n",
    "print(ones)\n",
    "print(ones.dtype)"
   ]
  },
  {
   "cell_type": "code",
   "execution_count": 43,
   "id": "69f17726",
   "metadata": {},
   "outputs": [
    {
     "name": "stdout",
     "output_type": "stream",
     "text": [
      "[[1 1]\n",
      " [1 1]]\n",
      "uint8\n"
     ]
    }
   ],
   "source": [
    "ones = np.ones((2,2),dtype='uint8') # Unsigned int, useful in computer vision applications and more\n",
    "print(ones)\n",
    "print(ones.dtype)"
   ]
  },
  {
   "cell_type": "markdown",
   "id": "be9180e6",
   "metadata": {},
   "source": [
    "### numpy.ones_like()\n",
    "#### Create a numpy array based on an existing array's shape and data type initialized with all 'ones'\n",
    "numpy.ones_like(a, dtype=None, order='K', subok=True, shape=None)"
   ]
  },
  {
   "cell_type": "code",
   "execution_count": 44,
   "id": "da928154",
   "metadata": {},
   "outputs": [
    {
     "name": "stdout",
     "output_type": "stream",
     "text": [
      "c:\n",
      "[[[1 2 3]\n",
      "  [1 2 3]]\n",
      "\n",
      " [[1 2 3]\n",
      "  [1 2 3]]]\n",
      "int32\n",
      "ones like c:\n",
      "[[[1 1 1]\n",
      "  [1 1 1]]\n",
      "\n",
      " [[1 1 1]\n",
      "  [1 1 1]]]\n",
      "int32\n"
     ]
    }
   ],
   "source": [
    "c = np.array([[[1,2,3],[1,2,3]],[[1,2,3],[1,2,3]]])\n",
    "print('c:')\n",
    "print(c)\n",
    "print(c.dtype)\n",
    "print('ones like c:')\n",
    "ones = np.ones_like(c)\n",
    "print(ones)\n",
    "print(ones.dtype)"
   ]
  },
  {
   "cell_type": "markdown",
   "id": "4b90b461",
   "metadata": {},
   "source": [
    "### numpy.arange()\n",
    "#### Create a numpy array initialized with values in a given range and using a given step size (default=1)\n",
    "numpy.arange([start, ]stop, [step, ]dtype=None, *, like=None)"
   ]
  },
  {
   "cell_type": "code",
   "execution_count": 45,
   "id": "95dd333b",
   "metadata": {},
   "outputs": [
    {
     "name": "stdout",
     "output_type": "stream",
     "text": [
      "a:\n",
      "[0 1 2 3 4 5 6 7 8 9]\n",
      "int32\n"
     ]
    }
   ],
   "source": [
    "a = np.arange(10)\n",
    "print('a:')\n",
    "print(a)\n",
    "print(a.dtype)"
   ]
  },
  {
   "cell_type": "code",
   "execution_count": 46,
   "id": "a8f1eae9",
   "metadata": {},
   "outputs": [
    {
     "name": "stdout",
     "output_type": "stream",
     "text": [
      "a:\n",
      "[10. 11. 12. 13. 14. 15. 16. 17. 18. 19. 20. 21. 22. 23. 24. 25. 26. 27.\n",
      " 28. 29.]\n",
      "float64\n"
     ]
    }
   ],
   "source": [
    "a = np.arange(10.0,30.0)\n",
    "print('a:')\n",
    "print(a)\n",
    "print(a.dtype)"
   ]
  },
  {
   "cell_type": "code",
   "execution_count": 47,
   "id": "b240bb07",
   "metadata": {},
   "outputs": [
    {
     "name": "stdout",
     "output_type": "stream",
     "text": [
      "a:\n",
      "[10 12 14 16 18 20 22 24 26 28]\n",
      "int32\n"
     ]
    }
   ],
   "source": [
    "a = np.arange(10,30,2)\n",
    "print('a:')\n",
    "print(a)\n",
    "print(a.dtype)"
   ]
  },
  {
   "cell_type": "markdown",
   "id": "b5423812",
   "metadata": {},
   "source": [
    "### numpy.linspace()\n",
    "#### Create a numpy array initialized with values evenly spaced over an interval\n",
    "numpy.linspace(start, stop, num=50, endpoint=True, retstep=False, dtype=None, axis=0)"
   ]
  },
  {
   "cell_type": "code",
   "execution_count": 48,
   "id": "425d25d8",
   "metadata": {},
   "outputs": [
    {
     "name": "stdout",
     "output_type": "stream",
     "text": [
      "a:\n",
      "[ 0.          0.20408163  0.40816327  0.6122449   0.81632653  1.02040816\n",
      "  1.2244898   1.42857143  1.63265306  1.83673469  2.04081633  2.24489796\n",
      "  2.44897959  2.65306122  2.85714286  3.06122449  3.26530612  3.46938776\n",
      "  3.67346939  3.87755102  4.08163265  4.28571429  4.48979592  4.69387755\n",
      "  4.89795918  5.10204082  5.30612245  5.51020408  5.71428571  5.91836735\n",
      "  6.12244898  6.32653061  6.53061224  6.73469388  6.93877551  7.14285714\n",
      "  7.34693878  7.55102041  7.75510204  7.95918367  8.16326531  8.36734694\n",
      "  8.57142857  8.7755102   8.97959184  9.18367347  9.3877551   9.59183673\n",
      "  9.79591837 10.        ]\n",
      "float64\n",
      "50\n"
     ]
    }
   ],
   "source": [
    "a = np.linspace(0, 10)\n",
    "print('a:')\n",
    "print(a)\n",
    "print(a.dtype)\n",
    "print(len(a))"
   ]
  },
  {
   "cell_type": "code",
   "execution_count": 49,
   "id": "a5331cf2",
   "metadata": {},
   "outputs": [
    {
     "name": "stdout",
     "output_type": "stream",
     "text": [
      "a:\n",
      "[ 0.          1.11111111  2.22222222  3.33333333  4.44444444  5.55555556\n",
      "  6.66666667  7.77777778  8.88888889 10.        ]\n",
      "float64\n",
      "10\n"
     ]
    }
   ],
   "source": [
    "a = np.linspace(0, 10, 10)\n",
    "print('a:')\n",
    "print(a)\n",
    "print(a.dtype)\n",
    "print(len(a))"
   ]
  },
  {
   "cell_type": "code",
   "execution_count": 50,
   "id": "72c66dd3",
   "metadata": {},
   "outputs": [
    {
     "name": "stdout",
     "output_type": "stream",
     "text": [
      "a:\n",
      "[0. 1. 2. 3. 4. 5. 6. 7. 8. 9.]\n",
      "float64\n",
      "10\n"
     ]
    }
   ],
   "source": [
    "a = np.linspace(0, 10, 10, endpoint=False)\n",
    "print('a:')\n",
    "print(a)\n",
    "print(a.dtype)\n",
    "print(len(a))"
   ]
  },
  {
   "cell_type": "code",
   "execution_count": 51,
   "id": "a75c07df",
   "metadata": {},
   "outputs": [
    {
     "name": "stdout",
     "output_type": "stream",
     "text": [
      "a:\n",
      "[0 1 2 3 4 5 6 7 8 9]\n",
      "uint8\n",
      "10\n"
     ]
    }
   ],
   "source": [
    "a = np.linspace(0, 10, 10, dtype='uint8', endpoint=False)\n",
    "print('a:')\n",
    "print(a)\n",
    "print(a.dtype)\n",
    "print(len(a))"
   ]
  },
  {
   "cell_type": "markdown",
   "id": "8826edfc",
   "metadata": {},
   "source": [
    "### numpy.logspace()\n",
    "#### Create a numpy array initialized with values evenly spaced on a log scale, starting at base^start and end at base^stop\n",
    "numpy.logspace(start, stop, num=50, endpoint=True, base=10.0, dtype=None, axis=0)"
   ]
  },
  {
   "cell_type": "code",
   "execution_count": 52,
   "id": "829ec02a",
   "metadata": {},
   "outputs": [
    {
     "name": "stdout",
     "output_type": "stream",
     "text": [
      "a:\n",
      "[ 100.          215.443469    464.15888336 1000.        ]\n",
      "float64\n",
      "4\n"
     ]
    }
   ],
   "source": [
    "a = np.logspace(2.0, 3.0, num=4)\n",
    "print('a:')\n",
    "print(a)\n",
    "print(a.dtype)\n",
    "print(len(a))"
   ]
  },
  {
   "cell_type": "code",
   "execution_count": 53,
   "id": "442d8eb6",
   "metadata": {},
   "outputs": [
    {
     "name": "stdout",
     "output_type": "stream",
     "text": [
      "a:\n",
      "[   2.    4.    8.   16.   32.   64.  128.  256.  512. 1024.]\n",
      "float64\n",
      "10\n"
     ]
    }
   ],
   "source": [
    "a = np.logspace(1, 10, num=10, base=2, dtype=np.float64)\n",
    "print('a:')\n",
    "print(a)\n",
    "print(a.dtype)\n",
    "print(len(a))"
   ]
  },
  {
   "cell_type": "markdown",
   "id": "fc15f761",
   "metadata": {},
   "source": [
    "### Other array creation methods\n",
    "#### Numpy provides many different array creation methods, such as:\n",
    "#### Empty - https://numpy.org/doc/stable/reference/generated/numpy.empty.html\n",
    "#### Eye (I matrix) - https://numpy.org/doc/stable/reference/generated/numpy.eye.html\n",
    "#### Identity - https://numpy.org/doc/stable/reference/generated/numpy.identity.html"
   ]
  },
  {
   "cell_type": "markdown",
   "id": "193924e3",
   "metadata": {},
   "source": [
    "# 7. Random numbers and sampling"
   ]
  },
  {
   "cell_type": "markdown",
   "id": "778a7a22",
   "metadata": {},
   "source": [
    "### Some of the commonly used methods for creating random numbers, random arrays and sampling.\n",
    "### Find more at: https://numpy.org/doc/stable/reference/random/index.html#module-numpy.random\n",
    "Random numbers is used in many applications, such as data processing (splitting datasets), noise creation, testing etc."
   ]
  },
  {
   "cell_type": "markdown",
   "id": "4df32b02",
   "metadata": {},
   "source": [
    "### numpy.random.rand()\n",
    "#### Generate random numbers in a given shape, uniformly distributed over [0, 1)\n",
    "random.rand(d0, d1, ..., dn)"
   ]
  },
  {
   "cell_type": "code",
   "execution_count": 54,
   "id": "463ef7f2",
   "metadata": {},
   "outputs": [
    {
     "name": "stdout",
     "output_type": "stream",
     "text": [
      "rand_array:\n",
      "[0.64997785 0.83527914 0.1841282  0.53106848 0.71227441]\n",
      "float64\n",
      "5\n"
     ]
    }
   ],
   "source": [
    "rand_array = np.random.rand(5)\n",
    "print('rand_array:')\n",
    "print(rand_array)\n",
    "print(rand_array.dtype)\n",
    "print(len(rand_array))"
   ]
  },
  {
   "cell_type": "code",
   "execution_count": 55,
   "id": "396b134d",
   "metadata": {},
   "outputs": [
    {
     "name": "stdout",
     "output_type": "stream",
     "text": [
      "rand_array:\n",
      "[[0.55181519 0.12246879]\n",
      " [0.1921176  0.84078135]]\n",
      "float64\n",
      "2\n"
     ]
    }
   ],
   "source": [
    "rand_array = np.random.rand(2,2)\n",
    "print('rand_array:')\n",
    "print(rand_array)\n",
    "print(rand_array.dtype)\n",
    "print(len(rand_array))"
   ]
  },
  {
   "cell_type": "code",
   "execution_count": 56,
   "id": "dba87d71",
   "metadata": {},
   "outputs": [
    {
     "name": "stdout",
     "output_type": "stream",
     "text": [
      "rand_array:\n",
      "[[[0.64740744 0.57314879 0.21593162 0.73495142]\n",
      "  [0.98845832 0.97813051 0.71932663 0.51328523]\n",
      "  [0.10139647 0.06375141 0.34099671 0.94191313]]\n",
      "\n",
      " [[0.01454221 0.07168974 0.25439603 0.14640237]\n",
      "  [0.30310198 0.07491995 0.48670859 0.62117147]\n",
      "  [0.34398883 0.9796037  0.43991699 0.99164307]]]\n",
      "float64\n",
      "2\n"
     ]
    }
   ],
   "source": [
    "rand_array = np.random.rand(2,3,4)\n",
    "print('rand_array:')\n",
    "print(rand_array)\n",
    "print(rand_array.dtype)\n",
    "print(len(rand_array))"
   ]
  },
  {
   "cell_type": "code",
   "execution_count": 57,
   "id": "e06e6a96",
   "metadata": {},
   "outputs": [
    {
     "name": "stdout",
     "output_type": "stream",
     "text": [
      "rand_array 0:\n",
      "[0.15421921 0.83570411 0.29274113]\n",
      "rand_array 1:\n",
      "[0.29698995 0.74790716 0.15230653]\n",
      "rand_array 2:\n",
      "[0.08703578 0.01859837 0.70457004]\n"
     ]
    }
   ],
   "source": [
    "# Random generation - changes on each method call\n",
    "for i in range(3):\n",
    "    rand_array = np.random.rand(3)\n",
    "    print(f'rand_array {i}:')\n",
    "    print(rand_array)"
   ]
  },
  {
   "cell_type": "markdown",
   "id": "1169ffb0",
   "metadata": {},
   "source": [
    "### numpy.random.randint()\n",
    "#### Generate random numbers from a given range, in a given shape, uniformly distributed and excluding the high value\n",
    "random.randint(low, high=None, size=None, dtype=int)"
   ]
  },
  {
   "cell_type": "code",
   "execution_count": 58,
   "id": "0b6fe243",
   "metadata": {},
   "outputs": [
    {
     "name": "stdout",
     "output_type": "stream",
     "text": [
      "rand_array:\n",
      "[9 8 5 6 8 1 4 8 2 3 5 8 0 8 1 5 2 4 9 2 9 0 5 2 1 4 5 5 2 5]\n",
      "int32\n",
      "30\n"
     ]
    }
   ],
   "source": [
    "rand_array = np.random.randint(10, size=30)\n",
    "print('rand_array:')\n",
    "print(rand_array)\n",
    "print(rand_array.dtype)\n",
    "print(len(rand_array))"
   ]
  },
  {
   "cell_type": "code",
   "execution_count": 59,
   "id": "a106c029",
   "metadata": {},
   "outputs": [
    {
     "name": "stdout",
     "output_type": "stream",
     "text": [
      "rand_array:\n",
      "[ 9  4  9  0  1  0  8  6  1  0  2  5  2  6  3  9  0  8  1  0  4  5  9  5\n",
      "  6  8  3 10  8  7]\n",
      "int32\n",
      "30\n"
     ]
    }
   ],
   "source": [
    "rand_array = np.random.randint(11, size=30)\n",
    "print('rand_array:')\n",
    "print(rand_array)\n",
    "print(rand_array.dtype)\n",
    "print(len(rand_array))"
   ]
  },
  {
   "cell_type": "code",
   "execution_count": 60,
   "id": "a500c714",
   "metadata": {},
   "outputs": [
    {
     "name": "stdout",
     "output_type": "stream",
     "text": [
      "rand_array:\n",
      "[0 1 0 1 1 0 0 0 1 1]\n",
      "int32\n",
      "10\n"
     ]
    }
   ],
   "source": [
    "# Binary generator\n",
    "rand_array = np.random.randint(2, size=10)\n",
    "print('rand_array:')\n",
    "print(rand_array)\n",
    "print(rand_array.dtype)\n",
    "print(len(rand_array))"
   ]
  },
  {
   "cell_type": "code",
   "execution_count": 61,
   "id": "2953d4f3",
   "metadata": {},
   "outputs": [
    {
     "name": "stdout",
     "output_type": "stream",
     "text": [
      "rand_array:\n",
      "[[15 12 12 15 16]\n",
      " [18 16 10 13 12]\n",
      " [16 11 14 15 13]\n",
      " [17 10 13 10 11]\n",
      " [17 10 19 16 12]]\n",
      "int32\n",
      "5\n"
     ]
    }
   ],
   "source": [
    "rand_array = np.random.randint(10, 20, size=(5,5))\n",
    "print('rand_array:')\n",
    "print(rand_array)\n",
    "print(rand_array.dtype)\n",
    "print(len(rand_array))"
   ]
  },
  {
   "cell_type": "markdown",
   "id": "7aac527a",
   "metadata": {},
   "source": [
    "### numpy.random.shuffle()\n",
    "#### Shuffles an array in-place\n",
    "random.shuffle(x)"
   ]
  },
  {
   "cell_type": "code",
   "execution_count": 62,
   "id": "822a767c",
   "metadata": {},
   "outputs": [
    {
     "name": "stdout",
     "output_type": "stream",
     "text": [
      "a:\n",
      "[0 1 2 3 4 5 6 7 8 9]\n",
      "shuffled:\n",
      "[8 2 9 4 0 1 5 6 7 3]\n"
     ]
    }
   ],
   "source": [
    "a = np.arange(10)\n",
    "print('a:')\n",
    "print(a)\n",
    "np.random.shuffle(a)\n",
    "print('shuffled:')\n",
    "print(a)"
   ]
  },
  {
   "cell_type": "code",
   "execution_count": 63,
   "id": "7110735a",
   "metadata": {},
   "outputs": [
    {
     "name": "stdout",
     "output_type": "stream",
     "text": [
      "a:\n",
      "[[0 1 2]\n",
      " [3 4 5]\n",
      " [6 7 8]]\n",
      "shuffled:\n",
      "[[6 7 8]\n",
      " [3 4 5]\n",
      " [0 1 2]]\n"
     ]
    }
   ],
   "source": [
    "# Shuffeling a multi-dimensional array will only shuffle the first axis\n",
    "a = np.arange(9).reshape((3, 3))\n",
    "print('a:')\n",
    "print(a)\n",
    "np.random.shuffle(a)\n",
    "print('shuffled:')\n",
    "print(a)"
   ]
  },
  {
   "cell_type": "markdown",
   "id": "f8bda37b",
   "metadata": {},
   "source": [
    "### Other distribution sampling methods\n",
    "#### Numpy provides many different sampling methods, such as:\n",
    "#### Binomial - https://numpy.org/doc/stable/reference/random/generated/numpy.random.binomial.html\n",
    "#### Laplace - https://numpy.org/doc/stable/reference/random/generated/numpy.random.laplace.html\n",
    "#### Poisson - https://numpy.org/doc/stable/reference/random/generated/numpy.random.poisson.html\n",
    "#### Normal - https://numpy.org/doc/stable/reference/random/generated/numpy.random.normal.html"
   ]
  },
  {
   "cell_type": "markdown",
   "id": "367e29b7",
   "metadata": {},
   "source": [
    "# 8. Advanced array manipulation\n",
    "### Below are some built-in methods that enable array manipulation, shape manipulation, concatenation and more.\n",
    "### Find more at: https://numpy.org/doc/stable/reference/routines.array-manipulation.html\n",
    "Numpy provides built-in methods that use vectorized calculations (in opposite to loop calculations) that make the code run faster. Below are some selected functions that help manipulate data as we need."
   ]
  },
  {
   "cell_type": "markdown",
   "id": "79f2a33d",
   "metadata": {},
   "source": [
    "### numpy.squeeze()\n",
    "#### Returns an array while squeezing dimensions of length 1\n",
    "numpy.squeeze(a, axis=None)"
   ]
  },
  {
   "cell_type": "code",
   "execution_count": 64,
   "id": "57680188",
   "metadata": {},
   "outputs": [
    {
     "name": "stdout",
     "output_type": "stream",
     "text": [
      "a:\n",
      "[[1]\n",
      " [2]\n",
      " [3]]\n",
      "a shape: (3, 1)\n",
      "squeezed:\n",
      "[1 2 3]\n",
      "squeezed shape: (3,)\n"
     ]
    }
   ],
   "source": [
    "a = np.array([[1], [2], [3]])\n",
    "print('a:')\n",
    "print(a)\n",
    "print(f'a shape: {a.shape}')\n",
    "squeeze = np.squeeze(a)\n",
    "print('squeezed:')\n",
    "print(squeeze)\n",
    "print(f'squeezed shape: {squeeze.shape}')"
   ]
  },
  {
   "cell_type": "code",
   "execution_count": 65,
   "id": "1b84dfba",
   "metadata": {},
   "outputs": [
    {
     "name": "stdout",
     "output_type": "stream",
     "text": [
      "a:\n",
      "[[[1]\n",
      "  [2]\n",
      "  [3]]]\n",
      "a shape: (1, 3, 1)\n",
      "squeezed axis = 0:\n",
      "[[1]\n",
      " [2]\n",
      " [3]]\n",
      "squeezed axis = 2:\n",
      "[[1 2 3]]\n",
      "squeezed shape: (1, 3)\n",
      "squeezed axis = None:\n",
      "[1 2 3]\n",
      "squeezed shape: (3,)\n"
     ]
    }
   ],
   "source": [
    "a = np.array([[[1], [2], [3]]])\n",
    "print('a:')\n",
    "print(a)\n",
    "print(f'a shape: {a.shape}')\n",
    "squeeze = np.squeeze(a, axis=0)\n",
    "print('squeezed axis = 0:') # Squeeze axis 0, possible since its length is 1\n",
    "print(squeeze)\n",
    "squeeze = np.squeeze(a, axis=2) # Squeeze axis 2, possible since its length is 1\n",
    "print('squeezed axis = 2:')\n",
    "print(squeeze)\n",
    "print(f'squeezed shape: {squeeze.shape}')\n",
    "squeeze = np.squeeze(a)\n",
    "print('squeezed axis = None:') # Squeeze any axis with length = 1\n",
    "print(squeeze)\n",
    "print(f'squeezed shape: {squeeze.shape}')"
   ]
  },
  {
   "cell_type": "markdown",
   "id": "5bc47972",
   "metadata": {},
   "source": [
    "### numpy.ravel()\n",
    "#### Returns a contiguous 1D array\n",
    "numpy.ravel(a, order='C')"
   ]
  },
  {
   "cell_type": "code",
   "execution_count": 66,
   "id": "9af466e1",
   "metadata": {},
   "outputs": [
    {
     "name": "stdout",
     "output_type": "stream",
     "text": [
      "a:\n",
      "[[1 2 3]\n",
      " [3 2 1]]\n",
      "ravel:\n",
      "[1 2 3 3 2 1]\n"
     ]
    }
   ],
   "source": [
    "a = np.array([[1, 2, 3], [3, 2, 1]])\n",
    "print('a:')\n",
    "print(a)\n",
    "print('ravel:')\n",
    "print(np.ravel(a))"
   ]
  },
  {
   "cell_type": "markdown",
   "id": "f365d441",
   "metadata": {},
   "source": [
    "### numpy.flatten()\n",
    "#### Returns a copy of the array as a 1D collapsed array\n",
    "ndarray.flatten(order='C')"
   ]
  },
  {
   "cell_type": "code",
   "execution_count": 67,
   "id": "030608d1",
   "metadata": {},
   "outputs": [
    {
     "name": "stdout",
     "output_type": "stream",
     "text": [
      "a:\n",
      "[[1 2 3]\n",
      " [3 2 1]]\n",
      "flatten:\n",
      "[1 2 3 3 2 1]\n"
     ]
    }
   ],
   "source": [
    "a = np.array([[1, 2, 3], [3, 2, 1]])\n",
    "print('a:')\n",
    "print(a)\n",
    "print('flatten:')\n",
    "print(a.flatten())"
   ]
  },
  {
   "cell_type": "markdown",
   "id": "f2e80fdf",
   "metadata": {},
   "source": [
    "### numpy.swapaxes()\n",
    "#### Swap two axes of an array\n",
    "numpy.swapaxes(a, axis1, axis2)"
   ]
  },
  {
   "cell_type": "code",
   "execution_count": 68,
   "id": "77f8cbda",
   "metadata": {},
   "outputs": [
    {
     "name": "stdout",
     "output_type": "stream",
     "text": [
      "a:\n",
      "[[ 0  1  2]\n",
      " [10 11 12]\n",
      " [20 21 22]]\n",
      "swapped:\n",
      "[[ 0 10 20]\n",
      " [ 1 11 21]\n",
      " [ 2 12 22]]\n"
     ]
    }
   ],
   "source": [
    "a = np.array([[0, 1, 2], [10, 11, 12], [20, 21, 22]])\n",
    "print('a:')\n",
    "print(a)\n",
    "swapped = np.swapaxes(a,0,1)\n",
    "print('swapped:')\n",
    "print(swapped)"
   ]
  },
  {
   "cell_type": "code",
   "execution_count": 69,
   "id": "7ec5839a",
   "metadata": {},
   "outputs": [
    {
     "name": "stdout",
     "output_type": "stream",
     "text": [
      "a:\n",
      "[[[ 0  1  2]\n",
      "  [10 11 12]\n",
      "  [20 21 22]]]\n",
      "a shape (1, 3, 3)\n",
      "swapped axes 0 and 1:\n",
      "[[[ 0  1  2]]\n",
      "\n",
      " [[10 11 12]]\n",
      "\n",
      " [[20 21 22]]]\n",
      "swapped shape (3, 1, 3)\n",
      "swapped axes 0 and 2:\n",
      "[[[ 0]\n",
      "  [10]\n",
      "  [20]]\n",
      "\n",
      " [[ 1]\n",
      "  [11]\n",
      "  [21]]\n",
      "\n",
      " [[ 2]\n",
      "  [12]\n",
      "  [22]]]\n",
      "swapped shape (3, 3, 1)\n",
      "swapped axes 1 and 2:\n",
      "[[[ 0 10 20]\n",
      "  [ 1 11 21]\n",
      "  [ 2 12 22]]]\n",
      "swapped shape (1, 3, 3)\n"
     ]
    }
   ],
   "source": [
    "a = np.array([[[0, 1, 2], [10, 11, 12], [20, 21, 22]]])\n",
    "print('a:')\n",
    "print(a)\n",
    "print(f'a shape {a.shape}')\n",
    "swapped = np.swapaxes(a,0,1)\n",
    "print('swapped axes 0 and 1:')\n",
    "print(swapped)\n",
    "print(f'swapped shape {swapped.shape}')\n",
    "swapped = np.swapaxes(a,0,2)\n",
    "print('swapped axes 0 and 2:')\n",
    "print(swapped)\n",
    "print(f'swapped shape {swapped.shape}')\n",
    "swapped = np.swapaxes(a,1,2)\n",
    "print('swapped axes 1 and 2:')\n",
    "print(swapped)\n",
    "print(f'swapped shape {swapped.shape}')"
   ]
  },
  {
   "cell_type": "markdown",
   "id": "bd861717",
   "metadata": {},
   "source": [
    "### numpy.unique()\n",
    "#### Get the sorted unique values in an array\n",
    "numpy.unique(ar, return_index=False, return_inverse=False, return_counts=False, axis=None)"
   ]
  },
  {
   "cell_type": "code",
   "execution_count": 70,
   "id": "fdd938cc",
   "metadata": {},
   "outputs": [
    {
     "name": "stdout",
     "output_type": "stream",
     "text": [
      "a:\n",
      "[5 1 8 6 0 0 8 7 4 5]\n",
      "unique values in a:\n",
      "[0 1 4 5 6 7 8]\n"
     ]
    }
   ],
   "source": [
    "a = np.random.randint(10, size=10)\n",
    "unique_values = np.unique(a)\n",
    "print('a:')\n",
    "print(a)\n",
    "print('unique values in a:')\n",
    "print(unique_values)"
   ]
  },
  {
   "cell_type": "code",
   "execution_count": 71,
   "id": "5c51b405",
   "metadata": {},
   "outputs": [
    {
     "name": "stdout",
     "output_type": "stream",
     "text": [
      "a:\n",
      "[[1 0 0]\n",
      " [2 3 4]\n",
      " [1 0 0]]\n",
      "unique values in a axis = None:\n",
      "[0 1 2 3 4]\n",
      "unique rows in a axis = 0:\n",
      "[[1 0 0]\n",
      " [2 3 4]]\n"
     ]
    }
   ],
   "source": [
    "# Get the unique rows (values in axis 0) in a 2d array\n",
    "a = np.array([[1, 0, 0], [2, 3, 4], [1, 0, 0]])\n",
    "unique_values = np.unique(a, axis=0)\n",
    "print('a:')\n",
    "print(a)\n",
    "unique_values = np.unique(a) # unique elements\n",
    "print('unique values in a axis = None:')\n",
    "print(unique_values)\n",
    "unique_values = np.unique(a, axis=0) # unique rows\n",
    "print('unique rows in a axis = 0:')\n",
    "print(unique_values)"
   ]
  },
  {
   "cell_type": "markdown",
   "id": "bf324219",
   "metadata": {},
   "source": [
    "### numpy.hstack()\n",
    "#### Stack array horrizontaly (column wise)\n",
    "numpy.hstack(tup) where tup = arrays as tuple"
   ]
  },
  {
   "cell_type": "code",
   "execution_count": 72,
   "id": "6736b594",
   "metadata": {},
   "outputs": [
    {
     "name": "stdout",
     "output_type": "stream",
     "text": [
      "a:\n",
      "[0 0 0]\n",
      "a shape (3,)\n",
      "b:\n",
      "[1 1 1]\n",
      "b shape (3,)\n",
      "horizontal stacked:\n",
      "[0 0 0 1 1 1]\n",
      "stacked shape (6,)\n"
     ]
    }
   ],
   "source": [
    "a = np.array((0,0,0))\n",
    "b = np.array((1,1,1))\n",
    "stacked = np.hstack((a,b))\n",
    "print('a:')\n",
    "print(a)\n",
    "print(f'a shape {a.shape}')\n",
    "print('b:')\n",
    "print(b)\n",
    "print(f'b shape {b.shape}')\n",
    "print('horizontal stacked:')\n",
    "print(stacked)\n",
    "print(f'stacked shape {stacked.shape}')"
   ]
  },
  {
   "cell_type": "code",
   "execution_count": 73,
   "id": "f1cbf919",
   "metadata": {},
   "outputs": [
    {
     "name": "stdout",
     "output_type": "stream",
     "text": [
      "a:\n",
      "[0 0 0]\n",
      "a shape (3,)\n",
      "b:\n",
      "[1 1 1]\n",
      "b shape (3,)\n",
      "c:\n",
      "[2 2 2]\n",
      "c shape (3,)\n",
      "horizontal stacked:\n",
      "[0 0 0 1 1 1 2 2 2]\n",
      "stacked shape (9,)\n"
     ]
    }
   ],
   "source": [
    "a = np.array((0,0,0))\n",
    "b = np.array((1,1,1))\n",
    "c = np.array((2,2,2))\n",
    "stacked = np.hstack((a,b,c))\n",
    "print('a:')\n",
    "print(a)\n",
    "print(f'a shape {a.shape}')\n",
    "print('b:')\n",
    "print(b)\n",
    "print(f'b shape {b.shape}')\n",
    "print('c:')\n",
    "print(c)\n",
    "print(f'c shape {c.shape}')\n",
    "print('horizontal stacked:')\n",
    "print(stacked)\n",
    "print(f'stacked shape {stacked.shape}')"
   ]
  },
  {
   "cell_type": "markdown",
   "id": "f55e73a0",
   "metadata": {},
   "source": [
    "### numpy.vstack()\n",
    "#### Stack array vertically (row wise)\n",
    "numpy.vstack(tup) where tup = arrays as tuple"
   ]
  },
  {
   "cell_type": "code",
   "execution_count": 74,
   "id": "5abcd0a9",
   "metadata": {},
   "outputs": [
    {
     "name": "stdout",
     "output_type": "stream",
     "text": [
      "a:\n",
      "[0 0 0]\n",
      "a shape (3,)\n",
      "b:\n",
      "[1 1 1]\n",
      "b shape (3,)\n",
      "vertical stacked:\n",
      "[[0 0 0]\n",
      " [1 1 1]]\n",
      "stacked shape (2, 3)\n"
     ]
    }
   ],
   "source": [
    "a = np.array((0,0,0))\n",
    "b = np.array((1,1,1))\n",
    "stacked = np.vstack((a,b))\n",
    "print('a:')\n",
    "print(a)\n",
    "print(f'a shape {a.shape}')\n",
    "print('b:')\n",
    "print(b)\n",
    "print(f'b shape {b.shape}')\n",
    "print('vertical stacked:')\n",
    "print(stacked)\n",
    "print(f'stacked shape {stacked.shape}')"
   ]
  },
  {
   "cell_type": "code",
   "execution_count": 75,
   "id": "29c9fe99",
   "metadata": {},
   "outputs": [
    {
     "name": "stdout",
     "output_type": "stream",
     "text": [
      "a:\n",
      "[0 0 0]\n",
      "a shape (3,)\n",
      "b:\n",
      "[1 1 1]\n",
      "b shape (3,)\n",
      "c:\n",
      "[2 2 2]\n",
      "c shape (3,)\n",
      "vertical stacked:\n",
      "[[0 0 0]\n",
      " [1 1 1]\n",
      " [2 2 2]]\n",
      "stacked shape (3, 3)\n"
     ]
    }
   ],
   "source": [
    "a = np.array((0,0,0))\n",
    "b = np.array((1,1,1))\n",
    "c = np.array((2,2,2))\n",
    "stacked = np.vstack((a,b,c))\n",
    "print('a:')\n",
    "print(a)\n",
    "print(f'a shape {a.shape}')\n",
    "print('b:')\n",
    "print(b)\n",
    "print(f'b shape {b.shape}')\n",
    "print('c:')\n",
    "print(c)\n",
    "print(f'c shape {c.shape}')\n",
    "print('vertical stacked:')\n",
    "print(stacked)\n",
    "print(f'stacked shape {stacked.shape}')"
   ]
  },
  {
   "cell_type": "markdown",
   "id": "795fbe78",
   "metadata": {},
   "source": [
    "### Other useful manipulation methods\n",
    "#### Numpy provides many different manipulation methods, such as:\n",
    "#### Split - https://numpy.org/doc/stable/reference/generated/numpy.split.html\n",
    "#### Padding - https://numpy.org/doc/stable/reference/generated/numpy.pad.html\n",
    "#### Resize - https://numpy.org/doc/stable/reference/generated/numpy.resize.html\n",
    "#### Stack (along a new axis) - https://numpy.org/doc/stable/reference/generated/numpy.stack.html\n",
    "#### Concatenate (along an existing axis) -  https://numpy.org/doc/stable/reference/generated/numpy.concatenate.html"
   ]
  },
  {
   "cell_type": "markdown",
   "id": "81f6e774",
   "metadata": {},
   "source": [
    "# 9. Statistics\n",
    "### Some of the commonly used statistics related methods.\n",
    "### Find more at: https://numpy.org/doc/stable/reference/routines.array-creation.html\n",
    "Numpy provides built-in statistics related methods that are very commonly used in ml, data science and computer vision."
   ]
  },
  {
   "cell_type": "markdown",
   "id": "683e134c",
   "metadata": {},
   "source": [
    "### numpy.median()\n",
    "#### Compute the median along a given axis\n",
    "numpy.median(a, axis=None, out=None, overwrite_input=False, keepdims=False)"
   ]
  },
  {
   "cell_type": "code",
   "execution_count": 76,
   "id": "a591a05a",
   "metadata": {},
   "outputs": [
    {
     "name": "stdout",
     "output_type": "stream",
     "text": [
      "a:\n",
      "[0 2 5 9 2 0 9 9 0 4]\n",
      "median:\n",
      "3.0\n"
     ]
    }
   ],
   "source": [
    "a = np.random.randint(10, size=10)\n",
    "print('a:')\n",
    "print(a)\n",
    "median = np.median(a)\n",
    "print('median:')\n",
    "print(median)"
   ]
  },
  {
   "cell_type": "code",
   "execution_count": 77,
   "id": "02d5d5a0",
   "metadata": {},
   "outputs": [
    {
     "name": "stdout",
     "output_type": "stream",
     "text": [
      "a:\n",
      "[[0 0 2 3 4 0]\n",
      " [1 2 4 4 3 0]\n",
      " [3 0 0 0 0 0]\n",
      " [1 0 0 0 2 3]]\n",
      "median in axis = 0:\n",
      "[1.  0.  1.  1.5 2.5 0. ]\n",
      "median in axis = 1:\n",
      "[1.  2.5 0.  0.5]\n"
     ]
    }
   ],
   "source": [
    "a = np.random.randint(5, size=24).reshape((4,6))\n",
    "print('a:')\n",
    "print(a)\n",
    "median = np.median(a, axis = 0)\n",
    "print(f'median in axis = 0:')\n",
    "print(median)\n",
    "median = np.median(a, axis = 1)\n",
    "print(f'median in axis = 1:')\n",
    "print(median)"
   ]
  },
  {
   "cell_type": "markdown",
   "id": "0495e852",
   "metadata": {},
   "source": [
    "### numpy.mean()\n",
    "#### Compute the mean along a given axis\n",
    "numpy.mean(a, axis=None, dtype=None, out=None, keepdims=<no value>, *, where=<no value>)"
   ]
  },
  {
   "cell_type": "code",
   "execution_count": 78,
   "id": "344d042f",
   "metadata": {},
   "outputs": [
    {
     "name": "stdout",
     "output_type": "stream",
     "text": [
      "a:\n",
      "[5 6 4 6 2 1 5 4 8 2]\n",
      "mean:\n",
      "4.3\n"
     ]
    }
   ],
   "source": [
    "a = np.random.randint(10, size=10)\n",
    "print('a:')\n",
    "print(a)\n",
    "mean = np.mean(a)\n",
    "print('mean:')\n",
    "print(mean)"
   ]
  },
  {
   "cell_type": "code",
   "execution_count": 79,
   "id": "bd435fd4",
   "metadata": {},
   "outputs": [
    {
     "name": "stdout",
     "output_type": "stream",
     "text": [
      "a:\n",
      "[[0 1 2 3 3 4]\n",
      " [0 3 1 0 1 0]\n",
      " [4 1 1 3 4 3]\n",
      " [4 2 0 2 0 2]]\n",
      "mean in axis = 0:\n",
      "[2.   1.75 1.   2.   2.   2.25]\n",
      "mean in axis = 1:\n",
      "[2.16666667 0.83333333 2.66666667 1.66666667]\n"
     ]
    }
   ],
   "source": [
    "a = np.random.randint(5, size=24).reshape((4,6))\n",
    "print('a:')\n",
    "print(a)\n",
    "mean = np.mean(a, axis = 0)\n",
    "print(f'mean in axis = 0:')\n",
    "print(mean)\n",
    "mean = np.mean(a, axis = 1)\n",
    "print(f'mean in axis = 1:')\n",
    "print(mean)"
   ]
  },
  {
   "cell_type": "markdown",
   "id": "acd2e090",
   "metadata": {},
   "source": [
    "### numpy.var()\n",
    "#### Compute the variance along a given axis\n",
    "numpy.var(a, axis=None, dtype=None, out=None, ddof=0, keepdims=<no value>, *, where=<no value>)"
   ]
  },
  {
   "cell_type": "code",
   "execution_count": 80,
   "id": "8f31de08",
   "metadata": {},
   "outputs": [
    {
     "name": "stdout",
     "output_type": "stream",
     "text": [
      "a:\n",
      "[4 4 3 5 1 9 1 8 1 3]\n",
      "var:\n",
      "7.090000000000001\n"
     ]
    }
   ],
   "source": [
    "a = np.random.randint(10, size=10)\n",
    "print('a:')\n",
    "print(a)\n",
    "var = np.var(a)\n",
    "print('var:')\n",
    "print(var)"
   ]
  },
  {
   "cell_type": "code",
   "execution_count": 81,
   "id": "3fa6af5b",
   "metadata": {},
   "outputs": [
    {
     "name": "stdout",
     "output_type": "stream",
     "text": [
      "a:\n",
      "[[0 3 2 3 3 4]\n",
      " [4 0 2 4 1 4]\n",
      " [0 2 4 2 4 4]\n",
      " [3 4 3 2 4 4]]\n",
      "var in axis = 0:\n",
      "[3.1875 2.1875 0.6875 0.6875 1.5    0.    ]\n",
      "var in axis = 1:\n",
      "[1.58333333 2.58333333 2.22222222 0.55555556]\n"
     ]
    }
   ],
   "source": [
    "a = np.random.randint(5, size=24).reshape((4,6))\n",
    "print('a:')\n",
    "print(a)\n",
    "var = np.var(a, axis = 0)\n",
    "print(f'var in axis = 0:')\n",
    "print(var)\n",
    "var = np.var(a, axis = 1)\n",
    "print(f'var in axis = 1:')\n",
    "print(var)"
   ]
  },
  {
   "cell_type": "markdown",
   "id": "6e8bcb6c",
   "metadata": {},
   "source": [
    "### numpy.cov()\n",
    "#### Compute (estimate) a covariance matrix\n",
    "numpy.cov(m, y=None, rowvar=True, bias=False, ddof=None, fweights=None, aweights=None, *, dtype=None)"
   ]
  },
  {
   "cell_type": "code",
   "execution_count": 82,
   "id": "505a4159",
   "metadata": {},
   "outputs": [
    {
     "name": "stdout",
     "output_type": "stream",
     "text": [
      "a:\n",
      "[[2 0 1 2 3 1]\n",
      " [2 1 3 0 3 4]\n",
      " [0 0 2 4 4 2]\n",
      " [1 1 4 4 3 0]]\n",
      "covariance matrix for a:\n",
      "[[ 1.1         0.1         1.2         0.7       ]\n",
      " [ 0.1         2.16666667  0.         -0.83333333]\n",
      " [ 1.2         0.          3.2         2.        ]\n",
      " [ 0.7        -0.83333333  2.          2.96666667]]\n"
     ]
    }
   ],
   "source": [
    "a = np.random.randint(5, size=24).reshape((4,6))\n",
    "print('a:')\n",
    "print(a)\n",
    "covariance_mat = np.cov(a)\n",
    "print(f'covariance matrix for a:')\n",
    "print(covariance_mat)"
   ]
  },
  {
   "cell_type": "markdown",
   "id": "645020e9",
   "metadata": {},
   "source": [
    "### Other useful statistics methods\n",
    "#### Numpy provides many different statistics methods, such as:\n",
    "#### Average (wighted average) - https://numpy.org/doc/stable/reference/generated/numpy.average.html\n",
    "#### Cross correlation - https://numpy.org/doc/stable/reference/generated/numpy.correlate.html\n",
    "#### Histogram computing - https://numpy.org/doc/stable/reference/generated/numpy.histogram.html\n",
    "#### Peak to peak (value range calculation in axis) - https://numpy.org/doc/stable/reference/generated/numpy.ptp.html"
   ]
  },
  {
   "cell_type": "markdown",
   "id": "41e20aa4",
   "metadata": {},
   "source": [
    "# 10. Linear algebra\n",
    "### Some of the commonly used linear algebrea related methods.\n",
    "### Find more at: https://numpy.org/doc/stable/reference/routines.linalg.html\n",
    "Numpy provides built-in linear algebrea related methods that are very commonly used in ml, data science and computer vision."
   ]
  },
  {
   "cell_type": "markdown",
   "id": "04232255",
   "metadata": {},
   "source": [
    "### numpy.matmul(), @\n",
    "#### Calculate the matrix product of two arrays\n",
    "numpy.matmul(x1, x2, /, out=None, *, casting='same_kind', order='K', dtype=None, subok=True[, signature, extobj, axes, axis])"
   ]
  },
  {
   "cell_type": "code",
   "execution_count": 83,
   "id": "d572ff3d",
   "metadata": {},
   "outputs": [
    {
     "name": "stdout",
     "output_type": "stream",
     "text": [
      "a:\n",
      "[[2 0 1]\n",
      " [3 0 3]]\n",
      "a shape (2, 3)\n",
      "b:\n",
      "[[0 0]\n",
      " [3 0]\n",
      " [2 0]]\n",
      "b shape (3, 2)\n",
      "mult = np.matmul(a, b):\n",
      "[[2 0]\n",
      " [6 0]]\n",
      "mult shape (2, 2)\n",
      "mult = a@b:\n",
      "[[2 0]\n",
      " [6 0]]\n",
      "mult shape (2, 2)\n"
     ]
    }
   ],
   "source": [
    "a = np.random.randint(4, size=6).reshape((2,3))\n",
    "b = np.random.randint(4, size=6).reshape((3,2))\n",
    "print('a:')\n",
    "print(a)\n",
    "print(f'a shape {a.shape}') # shape (n,k)\n",
    "print('b:')\n",
    "print(b)\n",
    "print(f'b shape {b.shape}') # shape (k,m)\n",
    "mult = np.matmul(a, b)\n",
    "print('mult = np.matmul(a, b):')\n",
    "print(mult)\n",
    "print(f'mult shape {mult.shape}') # shape of (n,k),(k,m)->(n,m)\n",
    "mult = a@b\n",
    "print('mult = a@b:')\n",
    "print(mult)\n",
    "print(f'mult shape {mult.shape}') # shape of (n,k),(k,m)->(n,m)"
   ]
  },
  {
   "cell_type": "code",
   "execution_count": 84,
   "id": "6853e7f1",
   "metadata": {},
   "outputs": [
    {
     "name": "stdout",
     "output_type": "stream",
     "text": [
      "a:\n",
      "[[3 3 1]\n",
      " [1 0 3]]\n",
      "a shape (2, 3)\n",
      "b:\n",
      "[0 3 2]\n",
      "b shape (3,)\n",
      "mult = np.matmul(a, b):\n",
      "[11  6]\n",
      "mult shape (2,)\n",
      "mult = a@b:\n",
      "[11  6]\n",
      "mult shape (2,)\n"
     ]
    }
   ],
   "source": [
    "a = np.random.randint(4, size=6).reshape((2,3))\n",
    "b = np.random.randint(4, size=3)\n",
    "print('a:')\n",
    "print(a)\n",
    "print(f'a shape {a.shape}') # shape (n,k)\n",
    "print('b:')\n",
    "print(b)\n",
    "print(f'b shape {b.shape}') # shape (k,m)\n",
    "mult = np.matmul(a, b)\n",
    "print('mult = np.matmul(a, b):')\n",
    "print(mult)\n",
    "print(f'mult shape {mult.shape}') # shape of (n,k),(k,m)->(n,m)\n",
    "mult = a@b\n",
    "print('mult = a@b:')\n",
    "print(mult)\n",
    "print(f'mult shape {mult.shape}') # shape of (n,k),(k,m)->(n,m)"
   ]
  },
  {
   "cell_type": "markdown",
   "id": "2dcad6bd",
   "metadata": {},
   "source": [
    "### numpy.dot()\n",
    "#### Calculate the dot product of two arrays\n",
    "numpy.dot(a, b, out=None)"
   ]
  },
  {
   "cell_type": "code",
   "execution_count": 85,
   "id": "ab3609d4",
   "metadata": {},
   "outputs": [
    {
     "name": "stdout",
     "output_type": "stream",
     "text": [
      "a:\n",
      "[[1 1 0]\n",
      " [1 2 2]]\n",
      "a shape (2, 3)\n",
      "b:\n",
      "[[[2]\n",
      "  [0]\n",
      "  [2]]\n",
      "\n",
      " [[1]\n",
      "  [3]\n",
      "  [1]]]\n",
      "b shape (2, 3, 1)\n",
      "dot = np.dot(a, b):\n",
      "[[[2]\n",
      "  [4]]\n",
      "\n",
      " [[6]\n",
      "  [9]]]\n",
      "dot shape (2, 2, 1)\n"
     ]
    }
   ],
   "source": [
    "a = np.random.randint(4, size=6).reshape((2,3))\n",
    "b = np.random.randint(4, size=6).reshape((2,3,1))\n",
    "print('a:')\n",
    "print(a)\n",
    "print(f'a shape {a.shape}') # shape (n,k)\n",
    "print('b:')\n",
    "print(b)\n",
    "print(f'b shape {b.shape}') # shape (k,m)\n",
    "dot = np.dot(a, b)\n",
    "print('dot = np.dot(a, b):')\n",
    "print(dot)\n",
    "print(f'dot shape {dot.shape}') # shape of (n,k),(k,m)->(n,m)"
   ]
  },
  {
   "cell_type": "markdown",
   "id": "6a87621a",
   "metadata": {},
   "source": [
    "### numpy.linalg.multi_dot()\n",
    "#### Calculate the dot product of two or more array while automatically selecting the fastest order\n",
    "linalg.multi_dot(arrays, *, out=None)"
   ]
  },
  {
   "cell_type": "code",
   "execution_count": 86,
   "id": "94e60bf0",
   "metadata": {},
   "outputs": [
    {
     "name": "stdout",
     "output_type": "stream",
     "text": [
      "using np.linalg.multi_dot()\n",
      "[[ 8.60833202  7.90517962  7.22464214]\n",
      " [11.15883726 10.1199047   9.13516918]]\n",
      "using np.dot(np.dot(np.dot(a, b), c), d)\n",
      "[[ 8.60833202  7.90517962  7.22464214]\n",
      " [11.15883726 10.1199047   9.13516918]]\n",
      "using a.dot(b).dot(c).dot(d)\n",
      "[[ 8.60833202  7.90517962  7.22464214]\n",
      " [11.15883726 10.1199047   9.13516918]]\n"
     ]
    }
   ],
   "source": [
    "# All will have the same results, when using with big data, np.linalg.multi_dot will optimize and be much faster\n",
    "a = np.random.random((2, 10))\n",
    "b = np.random.random((10, 3))\n",
    "c = np.random.random((3, 5))\n",
    "d = np.random.random((5, 3))\n",
    "multi_dot = np.linalg.multi_dot([a, b, c, d])\n",
    "print('using np.linalg.multi_dot()')\n",
    "print(multi_dot)\n",
    "multi_dot_chained1 = np.dot(np.dot(np.dot(a, b), c), d)\n",
    "print('using np.dot(np.dot(np.dot(a, b), c), d)')\n",
    "print(multi_dot_chained1)\n",
    "multi_dot_chained1 = a.dot(b).dot(c).dot(d)\n",
    "print('using a.dot(b).dot(c).dot(d)')\n",
    "print(multi_dot_chained1)"
   ]
  },
  {
   "cell_type": "markdown",
   "id": "ab98743b",
   "metadata": {},
   "source": [
    "### numpy.linalg.det()\n",
    "#### Calculate the determinant of an array\n",
    "linalg.det(a)"
   ]
  },
  {
   "cell_type": "code",
   "execution_count": 87,
   "id": "5db82167",
   "metadata": {},
   "outputs": [
    {
     "name": "stdout",
     "output_type": "stream",
     "text": [
      "a:\n",
      "[[4 2]\n",
      " [1 3]]\n",
      "determinant of a:\n",
      "10.000000000000002\n"
     ]
    }
   ],
   "source": [
    "a = np.array([[4, 2], [1, 3]])\n",
    "det = np.linalg.det(a)\n",
    "print('a:')\n",
    "print(a)\n",
    "print('determinant of a:')\n",
    "print(det)"
   ]
  },
  {
   "cell_type": "code",
   "execution_count": 88,
   "id": "02026853",
   "metadata": {},
   "outputs": [
    {
     "name": "stdout",
     "output_type": "stream",
     "text": [
      "a:\n",
      "[[[4 2]\n",
      "  [1 3]]\n",
      "\n",
      " [[7 3]\n",
      "  [6 6]]]\n",
      "shape (2, 2, 2)\n",
      "determinant of a:\n",
      "[10. 24.]\n",
      "shape (2,)\n"
     ]
    }
   ],
   "source": [
    "a = np.array([[[4, 2], [1, 3]],[[7, 3], [6, 6]]])\n",
    "det = np.linalg.det(a)\n",
    "print('a:')\n",
    "print(a)\n",
    "print(f'shape {a.shape}')\n",
    "print('determinant of a:')\n",
    "print(det)\n",
    "print(f'shape {det.shape}')"
   ]
  },
  {
   "cell_type": "markdown",
   "id": "e4ea4d32",
   "metadata": {},
   "source": [
    "### numpy.linalg.inv()\n",
    "#### Compute the inverse of a matrix (M^-1)\n",
    "linalg.inv(a)"
   ]
  },
  {
   "cell_type": "code",
   "execution_count": 3,
   "id": "14c700bb",
   "metadata": {},
   "outputs": [
    {
     "name": "stdout",
     "output_type": "stream",
     "text": [
      "a:\n",
      "[[[4 2]\n",
      "  [1 3]]\n",
      "\n",
      " [[7 3]\n",
      "  [6 6]]]\n",
      "shape (2, 2, 2)\n",
      "a inverse:\n",
      "[[[ 0.3        -0.2       ]\n",
      "  [-0.1         0.4       ]]\n",
      "\n",
      " [[ 0.25       -0.125     ]\n",
      "  [-0.25        0.29166667]]]\n",
      "shape (2, 2, 2)\n"
     ]
    }
   ],
   "source": [
    "a = np.array([[[4, 2], [1, 3]],[[7, 3], [6, 6]]])\n",
    "ainv = np.linalg.inv(a)\n",
    "print('a:')\n",
    "print(a)\n",
    "print(f'shape {a.shape}')\n",
    "print('a inverse:')\n",
    "print(ainv)\n",
    "print(f'shape {ainv.shape}')"
   ]
  },
  {
   "cell_type": "markdown",
   "id": "fd71a21d",
   "metadata": {},
   "source": []
  },
  {
   "cell_type": "code",
   "execution_count": null,
   "id": "cdf6af0a",
   "metadata": {},
   "outputs": [],
   "source": []
  },
  {
   "cell_type": "markdown",
   "id": "afd24be4",
   "metadata": {},
   "source": [
    "### numpy.linalg.solve()\n",
    "#### Solve a system of linear equations (equation matrix), returns the results as an array in order\n",
    "linalg.solve(a, b)"
   ]
  },
  {
   "cell_type": "code",
   "execution_count": 89,
   "id": "54e48a3d",
   "metadata": {},
   "outputs": [
    {
     "name": "stdout",
     "output_type": "stream",
     "text": [
      "Solving:\n",
      "x + 2y = 1\n",
      "3x + 5y = 2\n",
      "Result:\n",
      "Results vector [-1.  1.]\n",
      "Accurate results x=-1.0, y=1.0\n"
     ]
    }
   ],
   "source": [
    "a = np.array([[1, 2], [3, 5]])\n",
    "b = np.array([1, 2])\n",
    "# Matches the equations:\n",
    "# x + 2y = 1\n",
    "# 3x + 5y = 2\n",
    "# Or the matrix:\n",
    "# |1 2||x| |1|\n",
    "# |3 5||y|=|2| \n",
    "results = np.linalg.solve(a, b)\n",
    "print('Solving:')\n",
    "print('x + 2y = 1')\n",
    "print('3x + 5y = 2')\n",
    "print('Result:')\n",
    "print(f'Results vector {results}')\n",
    "print(f'Accurate results x={results[0].round()}, y={results[1].round()}')"
   ]
  },
  {
   "cell_type": "markdown",
   "id": "296e7f30",
   "metadata": {},
   "source": [
    "### Other useful linear algebra methods\n",
    "#### Numpy provides many different linear algebra methods, such as:\n",
    "#### Vdot (vector dot) - https://numpy.org/doc/stable/reference/generated/numpy.vdot.html\n",
    "#### Inner product - https://numpy.org/doc/stable/reference/generated/numpy.inner.html\n",
    "#### Outer product - https://numpy.org/doc/stable/reference/generated/numpy.outer.html"
   ]
  },
  {
   "cell_type": "code",
   "execution_count": null,
   "id": "40c40b8b",
   "metadata": {},
   "outputs": [],
   "source": []
  }
 ],
 "metadata": {
  "kernelspec": {
   "display_name": "Python 3 (ipykernel)",
   "language": "python",
   "name": "python3"
  },
  "language_info": {
   "codemirror_mode": {
    "name": "ipython",
    "version": 3
   },
   "file_extension": ".py",
   "mimetype": "text/x-python",
   "name": "python",
   "nbconvert_exporter": "python",
   "pygments_lexer": "ipython3",
   "version": "3.9.7"
  }
 },
 "nbformat": 4,
 "nbformat_minor": 5
}
