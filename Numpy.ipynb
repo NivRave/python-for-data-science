{
 "cells": [
  {
   "cell_type": "code",
   "execution_count": 1,
   "id": "7623e7d8",
   "metadata": {},
   "outputs": [],
   "source": [
    "#import numpy -> use numpy. to use the library\n",
    "import numpy as np# use np. to use the library"
   ]
  },
  {
   "cell_type": "markdown",
   "id": "1b4c8b5b",
   "metadata": {},
   "source": [
    "# Basic array creation"
   ]
  },
  {
   "cell_type": "code",
   "execution_count": 20,
   "id": "a8c739da",
   "metadata": {},
   "outputs": [],
   "source": [
    "a = np.array([1,2,3])\n",
    "b = np.array([1.,2.,3.])\n",
    "c = np.array([True, True, False])"
   ]
  },
  {
   "cell_type": "code",
   "execution_count": 17,
   "id": "da3cf719",
   "metadata": {},
   "outputs": [
    {
     "name": "stdout",
     "output_type": "stream",
     "text": [
      "a:\n",
      "[1 2 3]\n"
     ]
    },
    {
     "data": {
      "text/plain": [
       "dtype('int32')"
      ]
     },
     "execution_count": 17,
     "metadata": {},
     "output_type": "execute_result"
    }
   ],
   "source": [
    "print('a:')\n",
    "print(a)\n",
    "type(a)\n",
    "a.dtype"
   ]
  },
  {
   "cell_type": "code",
   "execution_count": 18,
   "id": "08aa1b3e",
   "metadata": {},
   "outputs": [
    {
     "name": "stdout",
     "output_type": "stream",
     "text": [
      "b:\n",
      "[1. 2. 3.]\n"
     ]
    },
    {
     "data": {
      "text/plain": [
       "dtype('float64')"
      ]
     },
     "execution_count": 18,
     "metadata": {},
     "output_type": "execute_result"
    }
   ],
   "source": [
    "print('b:')\n",
    "print(b)\n",
    "type(b)\n",
    "b.dtype"
   ]
  },
  {
   "cell_type": "code",
   "execution_count": 21,
   "id": "e600eb1e",
   "metadata": {},
   "outputs": [
    {
     "name": "stdout",
     "output_type": "stream",
     "text": [
      "c:\n",
      "[ True  True False]\n"
     ]
    },
    {
     "data": {
      "text/plain": [
       "dtype('bool')"
      ]
     },
     "execution_count": 21,
     "metadata": {},
     "output_type": "execute_result"
    }
   ],
   "source": [
    "print('c:')\n",
    "print(c)\n",
    "type(c)\n",
    "c.dtype"
   ]
  },
  {
   "cell_type": "markdown",
   "id": "67edfd8f",
   "metadata": {},
   "source": [
    "# Dimensions/shapes"
   ]
  },
  {
   "cell_type": "code",
   "execution_count": 27,
   "id": "38fd9385",
   "metadata": {},
   "outputs": [],
   "source": [
    "a = np.array([1,2,3])\n",
    "b = np.array([[1,2,3],[1,2,3]])\n",
    "c = np.array([[[1,2,3],[1,2,3]],[[1,2,3],[1,2,3]]])"
   ]
  },
  {
   "cell_type": "code",
   "execution_count": 39,
   "id": "c9909fe9",
   "metadata": {},
   "outputs": [
    {
     "name": "stdout",
     "output_type": "stream",
     "text": [
      "a:\n",
      "[1 2 3]\n",
      "ndim - number of dimensions:\n",
      "1\n",
      "shape:\n",
      "(3,)\n",
      "3\n"
     ]
    }
   ],
   "source": [
    "print('a:')\n",
    "print(a)\n",
    "print('ndim - number of dimensions:')\n",
    "print(a.ndim)\n",
    "print('shape:')\n",
    "print(a.shape)\n",
    "print(a.shape[0])"
   ]
  },
  {
   "cell_type": "code",
   "execution_count": 40,
   "id": "5b54b0ec",
   "metadata": {},
   "outputs": [
    {
     "name": "stdout",
     "output_type": "stream",
     "text": [
      "b:\n",
      "[[1 2 3]\n",
      " [1 2 3]]\n",
      "ndim - number of dimensions:\n",
      "2\n",
      "shape:\n",
      "(2, 3)\n",
      "2 3\n"
     ]
    }
   ],
   "source": [
    "print('b:')\n",
    "print(b)\n",
    "print('ndim - number of dimensions:')\n",
    "print(b.ndim)\n",
    "print('shape:')\n",
    "print(b.shape)\n",
    "print(b.shape[0],b.shape[1])"
   ]
  },
  {
   "cell_type": "code",
   "execution_count": 41,
   "id": "2192b2db",
   "metadata": {},
   "outputs": [
    {
     "name": "stdout",
     "output_type": "stream",
     "text": [
      "c:\n",
      "[[[1 2 3]\n",
      "  [1 2 3]]\n",
      "\n",
      " [[1 2 3]\n",
      "  [1 2 3]]]\n",
      "ndim - number of dimensions:\n",
      "3\n",
      "shape:\n",
      "(2, 2, 3)\n",
      "2 2 3\n"
     ]
    }
   ],
   "source": [
    "print('c:')\n",
    "print(c)\n",
    "print('ndim - number of dimensions:')\n",
    "print(c.ndim)\n",
    "print('shape:')\n",
    "print(c.shape)\n",
    "print(c.shape[0],c.shape[1],c.shape[2])"
   ]
  },
  {
   "cell_type": "code",
   "execution_count": 35,
   "id": "a0237f28",
   "metadata": {},
   "outputs": [
    {
     "name": "stdout",
     "output_type": "stream",
     "text": [
      "Access 1st element in each array:\n",
      "a:\n",
      "1\n",
      "b:\n",
      "1\n",
      "c:\n",
      "1\n"
     ]
    }
   ],
   "source": [
    "print('Access 1st element in each array:')\n",
    "print('a:')\n",
    "print(a[0])\n",
    "print('b:')\n",
    "print(b[0,0])\n",
    "print('c:')\n",
    "print(c[0,0,0])"
   ]
  },
  {
   "cell_type": "code",
   "execution_count": null,
   "id": "ec232b76",
   "metadata": {},
   "outputs": [],
   "source": [
    "print('Access i\\'th element in each array:')\n",
    "print('a:')\n",
    "print(a[0])\n",
    "print('b:')\n",
    "print(b[0,0])\n",
    "print('c:')\n",
    "print(c[0,0,0])"
   ]
  }
 ],
 "metadata": {
  "kernelspec": {
   "display_name": "Python 3 (ipykernel)",
   "language": "python",
   "name": "python3"
  },
  "language_info": {
   "codemirror_mode": {
    "name": "ipython",
    "version": 3
   },
   "file_extension": ".py",
   "mimetype": "text/x-python",
   "name": "python",
   "nbconvert_exporter": "python",
   "pygments_lexer": "ipython3",
   "version": "3.9.7"
  }
 },
 "nbformat": 4,
 "nbformat_minor": 5
}
